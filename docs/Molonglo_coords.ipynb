{
 "cells": [
  {
   "cell_type": "markdown",
   "metadata": {},
   "source": [
    "# Molonglo coordinate transforms\n",
    "Useful coordinate transforms for the molonglo radio telescope"
   ]
  },
  {
   "cell_type": "code",
   "execution_count": null,
   "metadata": {
    "collapsed": false
   },
   "outputs": [],
   "source": [
    "import numpy as np\n",
    "import ephem as e\n",
    "from scipy.optimize import minimize\n",
    "import matplotlib.pyplot as plt\n",
    "np.set_printoptions(precision=5,suppress =True)"
   ]
  },
  {
   "cell_type": "markdown",
   "metadata": {},
   "source": [
    "Below we define the rotation and reflection matrices"
   ]
  },
  {
   "cell_type": "code",
   "execution_count": null,
   "metadata": {
    "collapsed": false
   },
   "outputs": [],
   "source": [
    "def rotation_matrix(angle, d):\n",
    "    directions = {\n",
    "        \"x\":[1.,0.,0.],\n",
    "        \"y\":[0.,1.,0.],\n",
    "        \"z\":[0.,0.,1.]\n",
    "        }\n",
    "    direction = np.array(directions[d])\n",
    "    sina = np.sin(angle)\n",
    "    cosa = np.cos(angle)\n",
    "    # rotation matrix around unit vector \n",
    "    R = np.diag([cosa, cosa, cosa])\n",
    "    R += np.outer(direction, direction) * (1.0 - cosa)\n",
    "    direction *= sina\n",
    "    R += np.array([[ 0.0,         -direction[2],  direction[1]],\n",
    "                   [ direction[2], 0.0,          -direction[0]],\n",
    "                   [-direction[1], direction[0],  0.0]])\n",
    "    return R\n",
    "\n",
    "def reflection_matrix(d):\n",
    "    m = {\n",
    "    \"x\":[[-1.,0.,0.],[0., 1.,0.],[0.,0., 1.]],\n",
    "    \"y\":[[1., 0.,0.],[0.,-1.,0.],[0.,0., 1.]],\n",
    "    \"z\":[[1., 0.,0.],[0., 1.,0.],[1.,0.,-1.]]\n",
    "    }\n",
    "    return np.array(m[d])"
   ]
  },
  {
   "cell_type": "markdown",
   "metadata": {},
   "source": [
    "Define a position vectors"
   ]
  },
  {
   "cell_type": "code",
   "execution_count": null,
   "metadata": {
    "collapsed": false
   },
   "outputs": [],
   "source": [
    "def pos_vector(a,b):\n",
    "    return np.array([[np.cos(b)*np.cos(a)],\n",
    "                     [np.cos(b)*np.sin(a)],\n",
    "                     [np.sin(b)]])\n",
    "\n",
    "def pos_from_vector(vec):\n",
    "    a,b,c = vec\n",
    "    a_ = np.arctan2(b,a)\n",
    "    c_ = np.arcsin(c)   \n",
    "    return a_,c_"
   ]
  },
  {
   "cell_type": "markdown",
   "metadata": {},
   "source": [
    "Generic transform"
   ]
  },
  {
   "cell_type": "code",
   "execution_count": null,
   "metadata": {
    "collapsed": false
   },
   "outputs": [],
   "source": [
    "def transform(a,b,R,inverse=True):\n",
    "    P = pos_vector(a,b)\n",
    "    if inverse:\n",
    "        R = R.T\n",
    "    V = np.dot(R,P).ravel()\n",
    "    a,b = pos_from_vector(V)\n",
    "    a = 0 if np.isnan(a) else a\n",
    "    b = 0 if np.isnan(a) else b\n",
    "    return a,b"
   ]
  },
  {
   "cell_type": "markdown",
   "metadata": {},
   "source": [
    "Reference conversion formula from Duncan's old TCC"
   ]
  },
  {
   "cell_type": "code",
   "execution_count": null,
   "metadata": {
    "collapsed": false
   },
   "outputs": [],
   "source": [
    "def hadec_to_nsew(ha,dec):\n",
    "    ew = np.arcsin((0.9999940546 * np.cos(dec) * np.sin(ha))\n",
    "                    - (0.0029798011806 * np.cos(dec) * np.cos(ha))\n",
    "                    + (0.002015514993 * np.sin(dec)))\n",
    "    ns = np.arcsin(((-0.0000237558704 * np.cos(dec) * np.sin(ha))\n",
    "                     + (0.578881847 * np.cos(dec) * np.cos(ha))\n",
    "                     + (0.8154114339 * np.sin(dec)))\n",
    "                     / np.cos(ew))\n",
    "    return ns,ew"
   ]
  },
  {
   "cell_type": "markdown",
   "metadata": {},
   "source": [
    "New conversion formula using rotation matrices"
   ]
  },
  {
   "cell_type": "markdown",
   "metadata": {},
   "source": [
    "What do we think we should have:\n",
    "\n",
    "\\begin{equation}\n",
    "\\begin{bmatrix} \n",
    "\\cos(\\rm EW)\\cos(\\rm NS) \\\\\n",
    "\\cos(\\rm EW)\\sin(\\rm NS) \\\\\n",
    "\\sin(\\rm EW)\n",
    "\\end{bmatrix}\n",
    "=\n",
    "\\mathbf{R}\n",
    "\\begin{bmatrix} \n",
    "\\cos(\\delta)\\cos(\\rm HA) \\\\\n",
    "\\cos(\\delta)\\sin(\\rm HA) \\\\\n",
    "\\sin(\\delta)\n",
    "\\end{bmatrix}\n",
    "\\end{equation}\n",
    "\n",
    "Where $\\mathbf{R}$ is a composite rotation matrix.\n",
    "\n",
    "We need a rotations in axis of array plus orthogonal rotation w.r.t. to array centre. Note that the NS convention is flipped so HA and NS go clockwise and anti-clockwise respectively when viewed from the north pole in both coordinate systems.\n",
    "\n",
    "\\begin{equation}\n",
    "\\mathbf{R}_x\n",
    "=\n",
    "\\begin{bmatrix} \n",
    "1 & 0 & 0 \\\\\n",
    "0 & \\cos(\\theta) & -\\sin(\\theta) \\\\\n",
    "0 & \\sin(\\theta) & \\cos(\\theta)\n",
    "\\end{bmatrix}\n",
    "\\end{equation}\n",
    "\n",
    "\\begin{equation}\n",
    "\\mathbf{R}_y\n",
    "=\n",
    "\\begin{bmatrix} \n",
    "\\cos(\\phi) & 0 & \\sin(\\phi) \\\\\n",
    "0 & 1 & 0 \\\\\n",
    "-\\sin(\\phi) & 0 & \\cos(\\phi)\n",
    "\\end{bmatrix}\n",
    "\\end{equation}\n",
    "\n",
    "\\begin{equation}\n",
    "\\mathbf{R}_z\n",
    "=\n",
    "\\begin{bmatrix} \n",
    "\\cos(\\eta) & -\\sin(\\eta) & 0\\\\\n",
    "\\sin(\\eta) & \\cos(\\eta)  & 0\\\\\n",
    "0 & 0 & 1\n",
    "\\end{bmatrix}\n",
    "\\end{equation}\n",
    "\n",
    "\\begin{equation}\n",
    "\\mathbf{R} = \\mathbf{R}_x \\mathbf{R}_y \\mathbf{R}_z\n",
    "\\end{equation}\n",
    "\n",
    "Here I think $\\theta$ is a $3\\pi/2$ rotation to put the telescope pole (west) at the telescope zenith and $\\phi$ is also $\\pi/2$ to rotate the telescope meridian (which is lengthwise on the array, what we traditionally think of as the meridian is actually the equator of the telescope) into the position of $Az=0$.\n",
    "\n",
    "However rotation of NS and HA are opposite, so a reflection is needed. For example reflection around a plane in along which the $z$ axis lies:\n",
    "\n",
    "\\begin{equation}\n",
    "\\mathbf{\\bar{R}}_z\n",
    "=\n",
    "\\begin{bmatrix} \n",
    "1 & 0 & 0\\\\\n",
    "0 & 1  & 0\\\\\n",
    "0 & 0 & -1\n",
    "\\end{bmatrix}\n",
    "\\end{equation}\n",
    "\n",
    "Conversion to azimuth and elevations should therefore require $\\theta=-\\pi/2$ and $\\phi=\\pi/2$ with a reflection about $x$.\n",
    "\n",
    "Taking into account the EW skew and slope of the telescope:\n",
    "\n",
    "\\begin{equation}\n",
    "\\begin{bmatrix} \n",
    "\\cos(\\rm EW)\\cos(\\rm NS) \\\\\n",
    "\\cos(\\rm EW)\\sin(\\rm NS) \\\\\n",
    "\\sin(\\rm EW)\n",
    "\\end{bmatrix}\n",
    "=\n",
    "\\begin{bmatrix} \n",
    "\\cos(\\alpha) & -\\sin(\\alpha) & 0\\\\\n",
    "\\sin(\\alpha) & \\cos(\\alpha)  & 0\\\\\n",
    "0 & 0 & 1\n",
    "\\end{bmatrix}\n",
    "\\begin{bmatrix} \n",
    "\\cos(\\beta) & 0 & \\sin(\\beta) \\\\\n",
    "0 & 1 & 0 \\\\\n",
    "-\\sin(\\beta) & 0 & \\cos(\\beta)\n",
    "\\end{bmatrix}\n",
    "\\begin{bmatrix} \n",
    "1 & 0 & 0 \\\\\n",
    "0 & 0 & 1 \\\\\n",
    "0 & -1 & 0\n",
    "\\end{bmatrix}\n",
    "\\begin{bmatrix} \n",
    "0 & 0 & -1 \\\\\n",
    "0 & 1 & 0 \\\\\n",
    "1 & 0 & 0\n",
    "\\end{bmatrix}\n",
    "\\begin{bmatrix} \n",
    "-1 & 0 & 0\\\\\n",
    "0 & 1  & 0\\\\\n",
    "0 & 0 & 1\n",
    "\\end{bmatrix}\n",
    "\\begin{bmatrix} \n",
    "\\cos(\\delta)\\cos(\\rm HA) \\\\\n",
    "\\cos(\\delta)\\sin(\\rm HA) \\\\\n",
    "\\sin(\\delta)\n",
    "\\end{bmatrix}\n",
    "\\end{equation}\n",
    "\n",
    "So the correction matrix to take telescope coordinates to ns,ew\n",
    "\n",
    "\\begin{bmatrix} \n",
    "\\cos(\\alpha)\\sin(\\beta) & -\\sin(\\beta) & \\cos(\\alpha)\\sin(\\beta) \\\\\n",
    "\\sin(\\alpha)\\cos(\\beta) & \\cos(\\alpha) & \\sin(\\alpha)\\sin(\\beta) \\\\\n",
    "-\\sin(\\beta) & 0 & \\cos(\\beta)\n",
    "\\end{bmatrix}\n",
    "\n",
    "and to Az Elv\n",
    "\n",
    "\\begin{bmatrix} \n",
    "\\sin(\\alpha) & -\\cos(\\alpha)\\sin(\\beta) & -\\cos(\\alpha)\\cos(\\beta) \\\\\n",
    "\\cos(\\alpha) & -\\sin(\\alpha)\\sin(\\beta) & -\\sin(\\alpha)\\cos(\\beta) \\\\\n",
    "-\\cos(\\beta) & 0 & \\sin(\\beta)\n",
    "\\end{bmatrix}"
   ]
  },
  {
   "cell_type": "code",
   "execution_count": null,
   "metadata": {
    "collapsed": false
   },
   "outputs": [],
   "source": [
    "# There should be a slope and tilt conversion to get accurate change\n",
    "#skew = 4.363323129985824e-05\n",
    "#slope = 0.0034602076124567475\n",
    "\n",
    "#skew =  0.00004\n",
    "#slope = 0.00346\n",
    "\n",
    "skew = 0.01297 # <- this is the skew I get if I optimize for the same results as duncan's system\n",
    "slope= 0.00343\n",
    "\n",
    "def telescope_to_nsew_matrix(skew,slope):\n",
    "    R = rotation_matrix(skew,\"z\")\n",
    "    R = np.dot(R,rotation_matrix(slope,\"y\"))\n",
    "    return R\n",
    "\n",
    "def nsew_to_azel_matrix(skew,slope):\n",
    "    pre_R = telescope_to_nsew_matrix(skew,slope)\n",
    "    x_rot = rotation_matrix(-np.pi/2,\"x\")\n",
    "    y_rot = rotation_matrix(np.pi/2,\"y\")\n",
    "    R = np.dot(x_rot,y_rot)\n",
    "    R = np.dot(pre_R,R)\n",
    "    R_bar = reflection_matrix(\"x\")\n",
    "    R = np.dot(R,R_bar)\n",
    "    return R\n",
    "\n",
    "def nsew_to_azel(ns, ew):    \n",
    "    az,el = transform(ns,ew,nsew_to_azel_matrix(skew,slope))\n",
    "    return az,el\n",
    "\n",
    "print nsew_to_azel(0,np.pi/2) # should be -pi/2 and 0\n",
    "print nsew_to_azel(-np.pi/2,0)# should be -pi and 0\n",
    "print nsew_to_azel(0.0,.5)    # should be pi/2 and something near pi/2\n",
    "print nsew_to_azel(-.5,.5)    # less than pi/2 and less than pi/2\n",
    "print nsew_to_azel(.5,-.5)    \n",
    "print nsew_to_azel(.5,.5)     "
   ]
  },
  {
   "cell_type": "markdown",
   "metadata": {},
   "source": [
    "The inverse of this is:"
   ]
  },
  {
   "cell_type": "code",
   "execution_count": null,
   "metadata": {
    "collapsed": false
   },
   "outputs": [],
   "source": [
    "def azel_to_nsew(az, el):  \n",
    "    ns,ew = transform(az,el,nsew_to_azel_matrix(skew,slope).T)\n",
    "    return ns,ew"
   ]
  },
  {
   "cell_type": "markdown",
   "metadata": {},
   "source": [
    "Extending this to HA Dec"
   ]
  },
  {
   "cell_type": "code",
   "execution_count": null,
   "metadata": {
    "collapsed": false
   },
   "outputs": [],
   "source": [
    "mol_lat = -0.6043881274183919 # in radians\n",
    "\n",
    "def azel_to_hadec_matrix(lat):\n",
    "    rot_y = rotation_matrix(np.pi/2-lat,\"y\")\n",
    "    rot_z = rotation_matrix(np.pi,\"z\")\n",
    "    R = np.dot(rot_y,rot_z)\n",
    "    return R\n",
    "\n",
    "def azel_to_hadec(az,el,lat):\n",
    "    ha,dec = transform(az,el,azel_to_hadec_matrix(lat))\n",
    "    return ha,dec\n",
    "\n",
    "def nsew_to_hadec(ns,ew,lat,skew=skew,slope=slope):\n",
    "    R = np.dot(nsew_to_azel_matrix(skew,slope),azel_to_hadec_matrix(lat))\n",
    "    ha,dec = transform(ns,ew,R)\n",
    "    return ha,dec\n",
    "\n",
    "ns,ew = 0.8,0.8\n",
    "az,el = nsew_to_azel(ns,ew)\n",
    "print \"AzEl:\",az,el\n",
    "ha,dec = azel_to_hadec(az,el,mol_lat)\n",
    "print \"HADec:\",ha,dec\n",
    "ha,dec = nsew_to_hadec(ns,ew,mol_lat)\n",
    "print \"HADec2:\",ha,dec\n",
    "\n",
    "# This is Duncan's version\n",
    "ns_,ew_ = hadec_to_nsew(ha,dec)\n",
    "print \"NSEW Duncan:\",ns_,ew_\n",
    "print \"NS offset:\",ns_-ns,\"   EW offset:\",ew_-ew"
   ]
  },
  {
   "cell_type": "code",
   "execution_count": null,
   "metadata": {
    "collapsed": false
   },
   "outputs": [],
   "source": [
    "def test(ns,ew,skew,slope):\n",
    "    ha,dec = nsew_to_hadec(ns,ew,mol_lat,skew,slope)\n",
    "    ns_,ew_ = hadec_to_nsew(ha,dec)\n",
    "    no,eo = ns-ns_,ew-ew_\n",
    "    no = 0 if np.isnan(no) else no\n",
    "    eo = 0 if np.isnan(eo) else eo\n",
    "    return no,eo\n",
    "\n",
    "ns = np.linspace(-np.pi/2+0.1,np.pi/2-0.1,10)\n",
    "ew = np.linspace(-np.pi/2+0.1,np.pi/2-0.1,10)\n",
    "\n",
    "def test2(a):\n",
    "    skew,slope = a\n",
    "    out_ns = np.empty([10,10])\n",
    "    out_ew = np.empty([10,10])\n",
    "    for ii,n in enumerate(ns):\n",
    "        for jj,k in enumerate(ew):\n",
    "            a,b = test(n,k,skew,slope)\n",
    "            out_ns[ii,jj] = a\n",
    "            out_ew[ii,jj] = b\n",
    "    a = abs(out_ns).sum()#abs(np.median(out_ns))\n",
    "    b = abs(out_ew).sum()#abs(np.median(out_ew))\n",
    "    print a,b\n",
    "    print max(a,b)\n",
    "    return max(a,b)   \n",
    "\n",
    "#minimize(test2,[skew,slope])"
   ]
  },
  {
   "cell_type": "code",
   "execution_count": null,
   "metadata": {
    "collapsed": false
   },
   "outputs": [],
   "source": [
    "# Plotting out the conversion error as a function of HA and Dec. \n",
    "# Colour scale is log of the absolute difference between original system and new system\n",
    "\n",
    "\n",
    "ns = np.linspace(-np.pi/2,np.pi/2,10)\n",
    "ew = np.linspace(-np.pi/2,np.pi/2,10)\n",
    "out_ns = np.empty([10,10])\n",
    "out_ew = np.empty([10,10])\n",
    "for ii,n in enumerate(ns):\n",
    "    for jj,k in enumerate(ew):\n",
    "        print jj\n",
    "        a,b = test(n,k,skew,slope)\n",
    "        out_ns[ii,jj] = a\n",
    "        out_ew[ii,jj] = b\n",
    "plt.figure()\n",
    "plt.subplot(121)\n",
    "plt.imshow(abs(out_ns),aspect=\"auto\")\n",
    "plt.colorbar()\n",
    "\n",
    "plt.subplot(122)\n",
    "plt.imshow(abs(out_ew),aspect=\"auto\")\n",
    "plt.colorbar()\n",
    "plt.show()"
   ]
  },
  {
   "cell_type": "code",
   "execution_count": null,
   "metadata": {
    "collapsed": false
   },
   "outputs": [],
   "source": [
    "from mpl_toolkits.mplot3d import Axes3D\n",
    "from itertools import product, combinations\n",
    "from matplotlib.patches import FancyArrowPatch\n",
    "from mpl_toolkits.mplot3d import proj3d\n",
    "fig = plt.figure()\n",
    "ax = fig.gca(projection='3d')\n",
    "ax.set_aspect(\"equal\")\n",
    "\n",
    "#draw sphere\n",
    "u, v = np.mgrid[0:2*np.pi:20j, 0:np.pi:10j]\n",
    "x=np.cos(u)*np.sin(v)\n",
    "y=np.sin(u)*np.sin(v)\n",
    "z=np.cos(v)\n",
    "ax.plot_wireframe(x, y, z, color=\"r\",lw=1)\n",
    "\n",
    "R = rotation_matrix(np.pi/2,\"x\")\n",
    "pos_v = np.array([[x],[y],[z]])\n",
    "p = pos_v.T\n",
    "for i in p:\n",
    "    for j in i:\n",
    "        j[0] = np.dot(R,j[0])\n",
    "\n",
    "        \n",
    "class Arrow3D(FancyArrowPatch):\n",
    "    def __init__(self, xs, ys, zs, *args, **kwargs):\n",
    "        FancyArrowPatch.__init__(self, (0,0), (0,0), *args, **kwargs)\n",
    "        self._verts3d = xs, ys, zs\n",
    "\n",
    "    def draw(self, renderer):\n",
    "        xs3d, ys3d, zs3d = self._verts3d\n",
    "        xs, ys, zs = proj3d.proj_transform(xs3d, ys3d, zs3d, renderer.M)\n",
    "        self.set_positions((xs[0],ys[0]),(xs[1],ys[1]))\n",
    "        FancyArrowPatch.draw(self, renderer)\n",
    "\n",
    "a = Arrow3D([0,1],[0,0.1],[0,.10], mutation_scale=20, lw=1, arrowstyle=\"-|>\", color=\"k\")\n",
    "ax.add_artist(a)        \n",
    "        \n",
    "ax.set_xlabel(\"X\")\n",
    "ax.set_ylabel(\"Y\")\n",
    "ax.set_zlabel(\"Z\")\n",
    "        \n",
    "x=p.T[0,0]\n",
    "y=p.T[1,0]\n",
    "z=p.T[2,0]\n",
    "ax.plot_wireframe(x, y, z, color=\"b\",lw=1)\n",
    "plt.show()"
   ]
  },
  {
   "cell_type": "code",
   "execution_count": null,
   "metadata": {
    "collapsed": false
   },
   "outputs": [],
   "source": []
  },
  {
   "cell_type": "code",
   "execution_count": null,
   "metadata": {
    "collapsed": false
   },
   "outputs": [],
   "source": []
  },
  {
   "cell_type": "code",
   "execution_count": null,
   "metadata": {
    "collapsed": true
   },
   "outputs": [],
   "source": []
  }
 ],
 "metadata": {
  "kernelspec": {
   "display_name": "Python 2",
   "language": "python",
   "name": "python2"
  },
  "language_info": {
   "codemirror_mode": {
    "name": "ipython",
    "version": 2
   },
   "file_extension": ".py",
   "mimetype": "text/x-python",
   "name": "python",
   "nbconvert_exporter": "python",
   "pygments_lexer": "ipython2",
   "version": "2.7.9"
  }
 },
 "nbformat": 4,
 "nbformat_minor": 0
}
