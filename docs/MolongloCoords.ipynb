{
 "metadata": {
  "name": "",
  "signature": "sha256:05b67d1d6a6e2d0534795792cd3f03ceef98acb6643bec822762b4b2de2ca7d5"
 },
 "nbformat": 3,
 "nbformat_minor": 0,
 "worksheets": [
  {
   "cells": [
    {
     "cell_type": "markdown",
     "metadata": {},
     "source": [
      "#Molonglo coordinate transformations"
     ]
    },
    {
     "cell_type": "code",
     "collapsed": false,
     "input": [
      "import sympy as sym\n",
      "import numpy as np\n",
      "sym.init_printing()\n",
      "sym.init_session()"
     ],
     "language": "python",
     "metadata": {},
     "outputs": [
      {
       "output_type": "stream",
       "stream": "stdout",
       "text": [
        "IPython console for SymPy 1.0 (Python 2.7.6-64-bit) (ground types: python)\n",
        "\n",
        "These commands were executed:\n",
        ">>> from __future__ import division\n",
        ">>> from sympy import *\n",
        ">>> x, y, z, t = symbols('x y z t')\n",
        ">>> k, m, n = symbols('k m n', integer=True)\n",
        ">>> f, g, h = symbols('f g h', cls=Function)\n",
        ">>> init_printing()\n",
        "\n",
        "Documentation can be found at http://docs.sympy.org/1.0/\n"
       ]
      }
     ],
     "prompt_number": 305
    },
    {
     "cell_type": "code",
     "collapsed": false,
     "input": [
      "#symbols\n",
      "skew, slope, lat, lon = sym.symbols('skew slope lat lon')\n",
      "\n",
      "#values\n",
      "values = dict(skew = 2.3755870374367263e-05,\n",
      "              slope = 0.0034494653328734047,                                                          \n",
      "              lat = np.radians(-35.370707),\n",
      "              lon = np.radians(149.424702))"
     ],
     "language": "python",
     "metadata": {},
     "outputs": [],
     "prompt_number": 340
    },
    {
     "cell_type": "code",
     "collapsed": false,
     "input": [
      "def rotation_matrix(angle,d):\n",
      "    directions = {\n",
      "            \"x\":[1,0,0],\n",
      "            \"y\":[0,1,0],\n",
      "            \"z\":[0,0,1]\n",
      "            }\n",
      "    direction = np.array(directions[d])\n",
      "    sina = sym.sin(angle)\n",
      "    cosa = sym.cos(angle)\n",
      "    # rotation matrix around unit vector                                                              \n",
      "    R = sym.Matrix([[cosa,0,0],[0,cosa,0],[0,0,cosa]])\n",
      "    R += sym.Matrix(np.outer(direction, direction)) * (1 - cosa)\n",
      "    direction = sym.Matrix(direction)\n",
      "    direction *= sina\n",
      "    R += sym.Matrix([[ 0,           -direction[2],  direction[1]],\n",
      "                    [ direction[2], 0,             -direction[0]],\n",
      "                    [-direction[1], direction[0],   0]])\n",
      "    return R"
     ],
     "language": "python",
     "metadata": {},
     "outputs": [],
     "prompt_number": 341
    },
    {
     "cell_type": "code",
     "collapsed": false,
     "input": [
      "#reflections\n",
      "def reflection_matrix(d):\n",
      "    m = {\n",
      "    \"x\":[[-1,0,0],[0, 1,0],[0,0, 1]],\n",
      "    \"y\":[[1, 0,0],[0,-1,0],[0,0, 1]],\n",
      "    \"z\":[[1, 0,0],[0, 1,0],[1,0,-1]]\n",
      "    }\n",
      "    return sym.Matrix(m[d])"
     ],
     "language": "python",
     "metadata": {},
     "outputs": [],
     "prompt_number": 342
    },
    {
     "cell_type": "code",
     "collapsed": false,
     "input": [
      "def position_vector(a,b):\n",
      "    return sym.Matrix([[sym.cos(b)*sym.cos(a)],\n",
      "                      [sym.cos(b)*sym.sin(a)],\n",
      "                      [sym.sin(b)]])"
     ],
     "language": "python",
     "metadata": {},
     "outputs": [],
     "prompt_number": 343
    },
    {
     "cell_type": "markdown",
     "metadata": {},
     "source": [
      "#Convert telescope NS, MD to true NS, EW"
     ]
    },
    {
     "cell_type": "code",
     "collapsed": false,
     "input": [
      "telescope_to_nsew = rotation_matrix(skew,\"z\") * rotation_matrix(slope,\"y\")\n",
      "telescope_to_nsew"
     ],
     "language": "python",
     "metadata": {},
     "outputs": [
      {
       "latex": [
        "$$\\left[\\begin{matrix}\\cos{\\left (skew \\right )} \\cos{\\left (slope \\right )} & - \\sin{\\left (skew \\right )} & \\sin{\\left (slope \\right )} \\cos{\\left (skew \\right )}\\\\\\sin{\\left (skew \\right )} \\cos{\\left (slope \\right )} & \\cos{\\left (skew \\right )} & \\sin{\\left (skew \\right )} \\sin{\\left (slope \\right )}\\\\- \\sin{\\left (slope \\right )} & 0 & \\cos{\\left (slope \\right )}\\end{matrix}\\right]$$"
       ],
       "metadata": {},
       "output_type": "pyout",
       "png": "[encoded data removed]",
       "prompt_number": 344,
       "text": [
        "\u23a1cos(skew)\u22c5cos(slope)  -sin(skew)  sin(slope)\u22c5cos(skew)\u23a4\n",
        "\u23a2                                                      \u23a5\n",
        "\u23a2sin(skew)\u22c5cos(slope)  cos(skew)   sin(skew)\u22c5sin(slope)\u23a5\n",
        "\u23a2                                                      \u23a5\n",
        "\u23a3    -sin(slope)           0            cos(slope)     \u23a6"
       ]
      }
     ],
     "prompt_number": 344
    },
    {
     "cell_type": "markdown",
     "metadata": {},
     "source": [
      "#Convert true NS, EW to Az, Elv"
     ]
    },
    {
     "cell_type": "code",
     "collapsed": false,
     "input": [
      "nsew_to_azel = rotation_matrix(-sym.pi/2,\"x\") * rotation_matrix(sym.pi/2,\"y\") * reflection_matrix(\"x\")    \n",
      "nsew_to_azel\n",
      "\n"
     ],
     "language": "python",
     "metadata": {},
     "outputs": [
      {
       "latex": [
        "$$\\left[\\begin{matrix}0 & 0 & 1\\\\1 & 0 & 0\\\\0 & -1 & 0\\end{matrix}\\right]$$"
       ],
       "metadata": {},
       "output_type": "pyout",
       "png": "[encoded data removed]",
       "prompt_number": 345,
       "text": [
        "\u23a10  0   1\u23a4\n",
        "\u23a2        \u23a5\n",
        "\u23a21  0   0\u23a5\n",
        "\u23a2        \u23a5\n",
        "\u23a30  -1  0\u23a6"
       ]
      }
     ],
     "prompt_number": 345
    },
    {
     "cell_type": "markdown",
     "metadata": {},
     "source": [
      "#Convert telescope NS, MD to Az, Elv"
     ]
    },
    {
     "cell_type": "code",
     "collapsed": false,
     "input": [
      "telescope_to_azel = (telescope_to_nsew * nsew_to_azel)\n",
      "telescope_to_azel"
     ],
     "language": "python",
     "metadata": {},
     "outputs": [
      {
       "latex": [
        "$$\\left[\\begin{matrix}- \\sin{\\left (skew \\right )} & - \\sin{\\left (slope \\right )} \\cos{\\left (skew \\right )} & \\cos{\\left (skew \\right )} \\cos{\\left (slope \\right )}\\\\\\cos{\\left (skew \\right )} & - \\sin{\\left (skew \\right )} \\sin{\\left (slope \\right )} & \\sin{\\left (skew \\right )} \\cos{\\left (slope \\right )}\\\\0 & - \\cos{\\left (slope \\right )} & - \\sin{\\left (slope \\right )}\\end{matrix}\\right]$$"
       ],
       "metadata": {},
       "output_type": "pyout",
       "png": "[encoded data removed]",
       "prompt_number": 346,
       "text": [
        "\u23a1-sin(skew)  -sin(slope)\u22c5cos(skew)  cos(skew)\u22c5cos(slope)\u23a4\n",
        "\u23a2                                                       \u23a5\n",
        "\u23a2cos(skew)   -sin(skew)\u22c5sin(slope)  sin(skew)\u22c5cos(slope)\u23a5\n",
        "\u23a2                                                       \u23a5\n",
        "\u23a3    0            -cos(slope)           -sin(slope)     \u23a6"
       ]
      }
     ],
     "prompt_number": 346
    },
    {
     "cell_type": "markdown",
     "metadata": {},
     "source": [
      "#Convert Az, Elv to HA, Dec"
     ]
    },
    {
     "cell_type": "code",
     "collapsed": false,
     "input": [
      "azel_to_hadec = rotation_matrix(sym.pi/2-lat,\"y\") * rotation_matrix(sym.pi,\"z\")\n",
      "azel_to_hadec"
     ],
     "language": "python",
     "metadata": {},
     "outputs": [
      {
       "latex": [
        "$$\\left[\\begin{matrix}- \\sin{\\left (lat \\right )} & 0 & \\cos{\\left (lat \\right )}\\\\0 & -1 & 0\\\\\\cos{\\left (lat \\right )} & 0 & \\sin{\\left (lat \\right )}\\end{matrix}\\right]$$"
       ],
       "metadata": {},
       "output_type": "pyout",
       "png": "[encoded data removed]",
       "prompt_number": 347,
       "text": [
        "\u23a1-sin(lat)  0   cos(lat)\u23a4\n",
        "\u23a2                       \u23a5\n",
        "\u23a2    0      -1     0    \u23a5\n",
        "\u23a2                       \u23a5\n",
        "\u23a3cos(lat)   0   sin(lat)\u23a6"
       ]
      }
     ],
     "prompt_number": 347
    },
    {
     "cell_type": "markdown",
     "metadata": {},
     "source": [
      "#Convert telescope NS, MD to HA, Dec"
     ]
    },
    {
     "cell_type": "code",
     "collapsed": false,
     "input": [
      "telescope_to_hadec = telescope_to_azel * azel_to_hadec\n",
      "telescope_to_hadec"
     ],
     "language": "python",
     "metadata": {},
     "outputs": [
      {
       "latex": [
        "$$\\left[\\begin{matrix}\\sin{\\left (lat \\right )} \\sin{\\left (skew \\right )} + \\cos{\\left (lat \\right )} \\cos{\\left (skew \\right )} \\cos{\\left (slope \\right )} & \\sin{\\left (slope \\right )} \\cos{\\left (skew \\right )} & \\sin{\\left (lat \\right )} \\cos{\\left (skew \\right )} \\cos{\\left (slope \\right )} - \\sin{\\left (skew \\right )} \\cos{\\left (lat \\right )}\\\\- \\sin{\\left (lat \\right )} \\cos{\\left (skew \\right )} + \\sin{\\left (skew \\right )} \\cos{\\left (lat \\right )} \\cos{\\left (slope \\right )} & \\sin{\\left (skew \\right )} \\sin{\\left (slope \\right )} & \\sin{\\left (lat \\right )} \\sin{\\left (skew \\right )} \\cos{\\left (slope \\right )} + \\cos{\\left (lat \\right )} \\cos{\\left (skew \\right )}\\\\- \\sin{\\left (slope \\right )} \\cos{\\left (lat \\right )} & \\cos{\\left (slope \\right )} & - \\sin{\\left (lat \\right )} \\sin{\\left (slope \\right )}\\end{matrix}\\right]$$"
       ],
       "metadata": {},
       "output_type": "pyout",
       "png": "[encoded data removed]",
       "prompt_number": 348,
       "text": [
        "\u23a1sin(lat)\u22c5sin(skew) + cos(lat)\u22c5cos(skew)\u22c5cos(slope)   sin(slope)\u22c5cos(skew)  si\n",
        "\u23a2                                                                             \n",
        "\u23a2-sin(lat)\u22c5cos(skew) + sin(skew)\u22c5cos(lat)\u22c5cos(slope)  sin(skew)\u22c5sin(slope)  si\n",
        "\u23a2                                                                             \n",
        "\u23a3               -sin(slope)\u22c5cos(lat)                       cos(slope)         \n",
        "\n",
        "n(lat)\u22c5cos(skew)\u22c5cos(slope) - sin(skew)\u22c5cos(lat)\u23a4\n",
        "                                                \u23a5\n",
        "n(lat)\u22c5sin(skew)\u22c5cos(slope) + cos(lat)\u22c5cos(skew)\u23a5\n",
        "                                                \u23a5\n",
        "             -sin(lat)\u22c5sin(slope)               \u23a6"
       ]
      }
     ],
     "prompt_number": 348
    },
    {
     "cell_type": "markdown",
     "metadata": {},
     "source": [
      "#Convert HA, Dec to telescope NS, MD"
     ]
    },
    {
     "cell_type": "code",
     "collapsed": false,
     "input": [
      "telescope_to_hadec.T"
     ],
     "language": "python",
     "metadata": {},
     "outputs": [
      {
       "latex": [
        "$$\\left[\\begin{matrix}\\sin{\\left (lat \\right )} \\sin{\\left (skew \\right )} + \\cos{\\left (lat \\right )} \\cos{\\left (skew \\right )} \\cos{\\left (slope \\right )} & - \\sin{\\left (lat \\right )} \\cos{\\left (skew \\right )} + \\sin{\\left (skew \\right )} \\cos{\\left (lat \\right )} \\cos{\\left (slope \\right )} & - \\sin{\\left (slope \\right )} \\cos{\\left (lat \\right )}\\\\\\sin{\\left (slope \\right )} \\cos{\\left (skew \\right )} & \\sin{\\left (skew \\right )} \\sin{\\left (slope \\right )} & \\cos{\\left (slope \\right )}\\\\\\sin{\\left (lat \\right )} \\cos{\\left (skew \\right )} \\cos{\\left (slope \\right )} - \\sin{\\left (skew \\right )} \\cos{\\left (lat \\right )} & \\sin{\\left (lat \\right )} \\sin{\\left (skew \\right )} \\cos{\\left (slope \\right )} + \\cos{\\left (lat \\right )} \\cos{\\left (skew \\right )} & - \\sin{\\left (lat \\right )} \\sin{\\left (slope \\right )}\\end{matrix}\\right]$$"
       ],
       "metadata": {},
       "output_type": "pyout",
       "png": "[encoded data removed]",
       "prompt_number": 349,
       "text": [
        "\u23a1sin(lat)\u22c5sin(skew) + cos(lat)\u22c5cos(skew)\u22c5cos(slope)  -sin(lat)\u22c5cos(skew) + sin\n",
        "\u23a2                                                                             \n",
        "\u23a2               sin(slope)\u22c5cos(skew)                                sin(skew)\u22c5\n",
        "\u23a2                                                                             \n",
        "\u23a3sin(lat)\u22c5cos(skew)\u22c5cos(slope) - sin(skew)\u22c5cos(lat)  sin(lat)\u22c5sin(skew)\u22c5cos(sl\n",
        "\n",
        "(skew)\u22c5cos(lat)\u22c5cos(slope)  -sin(slope)\u22c5cos(lat)\u23a4\n",
        "                                                \u23a5\n",
        "sin(slope)                       cos(slope)     \u23a5\n",
        "                                                \u23a5\n",
        "ope) + cos(lat)\u22c5cos(skew)   -sin(lat)\u22c5sin(slope)\u23a6"
       ]
      }
     ],
     "prompt_number": 349
    },
    {
     "cell_type": "markdown",
     "metadata": {},
     "source": [
      "#Example"
     ]
    },
    {
     "cell_type": "code",
     "collapsed": false,
     "input": [
      "HA,Dec = sym.symbols('HA Dec')\n",
      "hadec_vector = position_vector(HA,Dec)\n",
      "hadec_vector"
     ],
     "language": "python",
     "metadata": {},
     "outputs": [
      {
       "latex": [
        "$$\\left[\\begin{matrix}\\cos{\\left (Dec \\right )} \\cos{\\left (HA \\right )}\\\\\\sin{\\left (HA \\right )} \\cos{\\left (Dec \\right )}\\\\\\sin{\\left (Dec \\right )}\\end{matrix}\\right]$$"
       ],
       "metadata": {},
       "output_type": "pyout",
       "png": "[encoded data removed]",
       "prompt_number": 350,
       "text": [
        "\u23a1cos(Dec)\u22c5cos(HA)\u23a4\n",
        "\u23a2                \u23a5\n",
        "\u23a2sin(HA)\u22c5cos(Dec)\u23a5\n",
        "\u23a2                \u23a5\n",
        "\u23a3    sin(Dec)    \u23a6"
       ]
      }
     ],
     "prompt_number": 350
    },
    {
     "cell_type": "code",
     "collapsed": false,
     "input": [
      "ns,ew = sym.symbols('NS EW')\n",
      "nsew_vec = position_vector(ns,ew)\n",
      "nsew_vec"
     ],
     "language": "python",
     "metadata": {},
     "outputs": [
      {
       "latex": [
        "$$\\left[\\begin{matrix}\\cos{\\left (EW \\right )} \\cos{\\left (NS \\right )}\\\\\\sin{\\left (NS \\right )} \\cos{\\left (EW \\right )}\\\\\\sin{\\left (EW \\right )}\\end{matrix}\\right]$$"
       ],
       "metadata": {},
       "output_type": "pyout",
       "png": "[encoded data removed]",
       "prompt_number": 351,
       "text": [
        "\u23a1cos(EW)\u22c5cos(NS)\u23a4\n",
        "\u23a2               \u23a5\n",
        "\u23a2sin(NS)\u22c5cos(EW)\u23a5\n",
        "\u23a2               \u23a5\n",
        "\u23a3    sin(EW)    \u23a6"
       ]
      }
     ],
     "prompt_number": 351
    },
    {
     "cell_type": "code",
     "collapsed": false,
     "input": [
      "equations = sym.Eq(nsew_vec,(telescope_to_hadec * vec))\n",
      "equations"
     ],
     "language": "python",
     "metadata": {},
     "outputs": [
      {
       "latex": [
        "$$\\left[\\begin{matrix}\\cos{\\left (EW \\right )} \\cos{\\left (NS \\right )}\\\\\\sin{\\left (NS \\right )} \\cos{\\left (EW \\right )}\\\\\\sin{\\left (EW \\right )}\\end{matrix}\\right] = \\left[\\begin{matrix}\\left(\\sin{\\left (lat \\right )} \\sin{\\left (skew \\right )} + \\cos{\\left (lat \\right )} \\cos{\\left (skew \\right )} \\cos{\\left (slope \\right )}\\right) \\cos{\\left (Dec \\right )} \\cos{\\left (HA \\right )} + \\left(\\sin{\\left (lat \\right )} \\cos{\\left (skew \\right )} \\cos{\\left (slope \\right )} - \\sin{\\left (skew \\right )} \\cos{\\left (lat \\right )}\\right) \\sin{\\left (Dec \\right )} + \\sin{\\left (HA \\right )} \\sin{\\left (slope \\right )} \\cos{\\left (Dec \\right )} \\cos{\\left (skew \\right )}\\\\\\left(- \\sin{\\left (lat \\right )} \\cos{\\left (skew \\right )} + \\sin{\\left (skew \\right )} \\cos{\\left (lat \\right )} \\cos{\\left (slope \\right )}\\right) \\cos{\\left (Dec \\right )} \\cos{\\left (HA \\right )} + \\left(\\sin{\\left (lat \\right )} \\sin{\\left (skew \\right )} \\cos{\\left (slope \\right )} + \\cos{\\left (lat \\right )} \\cos{\\left (skew \\right )}\\right) \\sin{\\left (Dec \\right )} + \\sin{\\left (HA \\right )} \\sin{\\left (skew \\right )} \\sin{\\left (slope \\right )} \\cos{\\left (Dec \\right )}\\\\- \\sin{\\left (Dec \\right )} \\sin{\\left (lat \\right )} \\sin{\\left (slope \\right )} + \\sin{\\left (HA \\right )} \\cos{\\left (Dec \\right )} \\cos{\\left (slope \\right )} - \\sin{\\left (slope \\right )} \\cos{\\left (Dec \\right )} \\cos{\\left (HA \\right )} \\cos{\\left (lat \\right )}\\end{matrix}\\right]$$"
       ],
       "metadata": {},
       "output_type": "pyout",
       "png": "[encoded data removed]",
       "prompt_number": 352,
       "text": [
        "\u23a1cos(EW)\u22c5cos(NS)\u23a4 = \u23a1(sin(lat)\u22c5sin(skew) + cos(lat)\u22c5cos(skew)\u22c5cos(slope))\u22c5cos(\n",
        "\u23a2               \u23a5   \u23a2                                                         \n",
        "\u23a2sin(NS)\u22c5cos(EW)\u23a5   \u23a2(-sin(lat)\u22c5cos(skew) + sin(skew)\u22c5cos(lat)\u22c5cos(slope))\u22c5cos\n",
        "\u23a2               \u23a5   \u23a2                                                         \n",
        "\u23a3    sin(EW)    \u23a6   \u23a3                                      -sin(Dec)\u22c5sin(lat)\u22c5\n",
        "\n",
        "Dec)\u22c5cos(HA) + (sin(lat)\u22c5cos(skew)\u22c5cos(slope) - sin(skew)\u22c5cos(lat))\u22c5sin(Dec) +\n",
        "                                                                              \n",
        "(Dec)\u22c5cos(HA) + (sin(lat)\u22c5sin(skew)\u22c5cos(slope) + cos(lat)\u22c5cos(skew))\u22c5sin(Dec) \n",
        "                                                                              \n",
        "sin(slope) + sin(HA)\u22c5cos(Dec)\u22c5cos(slope) - sin(slope)\u22c5cos(Dec)\u22c5cos(HA)\u22c5cos(lat\n",
        "\n",
        " sin(HA)\u22c5sin(slope)\u22c5cos(Dec)\u22c5cos(skew) \u23a4\n",
        "                                       \u23a5\n",
        "+ sin(HA)\u22c5sin(skew)\u22c5sin(slope)\u22c5cos(Dec)\u23a5\n",
        "                                       \u23a5\n",
        ")                                      \u23a6"
       ]
      }
     ],
     "prompt_number": 352
    },
    {
     "cell_type": "code",
     "collapsed": false,
     "input": [
      "values.update({HA:2.0,Dec:0.3})\n",
      "e = equations.subs(values)\n",
      "e"
     ],
     "language": "python",
     "metadata": {},
     "outputs": [
      {
       "latex": [
        "$$\\left[\\begin{matrix}\\cos{\\left (EW \\right )} \\cos{\\left (NS \\right )}\\\\\\sin{\\left (NS \\right )} \\cos{\\left (EW \\right )}\\\\\\sin{\\left (EW \\right )}\\end{matrix}\\right] = \\left[\\begin{matrix}-0.492247048735884\\\\0.010829069332873\\\\0.870388174476306\\end{matrix}\\right]$$"
       ],
       "metadata": {},
       "output_type": "pyout",
       "png": "[encoded data removed]",
       "prompt_number": 389,
       "text": [
        "\u23a1cos(EW)\u22c5cos(NS)\u23a4 = \u23a1-0.492247048735884\u23a4\n",
        "\u23a2               \u23a5   \u23a2                  \u23a5\n",
        "\u23a2sin(NS)\u22c5cos(EW)\u23a5   \u23a20.010829069332873 \u23a5\n",
        "\u23a2               \u23a5   \u23a2                  \u23a5\n",
        "\u23a3    sin(EW)    \u23a6   \u23a30.870388174476306 \u23a6"
       ]
      }
     ],
     "prompt_number": 389
    },
    {
     "cell_type": "code",
     "collapsed": false,
     "input": [
      "a,b,c = np.array((telescope_to_hadec * vec).subs(values)).astype('float32').squeeze()\n",
      "calc_ew = np.arcsin(c)\n",
      "calc_ns = np.arctan2(b,a)\n",
      "print \"(EB) NS, EW (radians) = \",calc_ns,\", \",calc_ew"
     ],
     "language": "python",
     "metadata": {},
     "outputs": [
      {
       "output_type": "stream",
       "stream": "stdout",
       "text": [
        "(EB) NS, EW (radians) =  3.1196 ,  1.05599\n"
       ]
      }
     ],
     "prompt_number": 391
    },
    {
     "cell_type": "code",
     "collapsed": false,
     "input": [
      "def jer_delay(ha_source,dec_source, tilt=slope, skew=skew, latitude=lat):\n",
      "    from numpy import sin,cos\n",
      "    return sin(ha_source)*cos(dec_source)*cos(tilt) + \\\n",
      "            cos(ha_source)*cos(dec_source)* (skew*sin(latitude)-sin(tilt)*cos(latitude))- \\\n",
      "            sin(dec_source)*(skew*cos(latitude)+sin(tilt)*sin(latitude))"
     ],
     "language": "python",
     "metadata": {},
     "outputs": [],
     "prompt_number": 392
    },
    {
     "cell_type": "code",
     "collapsed": false,
     "input": [
      "calc_ew_jer = jer_delay(values[HA],values[Dec],tilt=values['slope'],skew=values['skew'],latitude=values['lat'])\n",
      "print \"(JER) EW (radians) = \",np.arcsin(calc_ew_jer)"
     ],
     "language": "python",
     "metadata": {},
     "outputs": [
      {
       "output_type": "stream",
       "stream": "stdout",
       "text": [
        "(JER) EW (radians) =  1.05598963476\n"
       ]
      }
     ],
     "prompt_number": 393
    },
    {
     "cell_type": "code",
     "collapsed": false,
     "input": [
      "#difference\n",
      "print \"Offset between EB and JER of:\",np.degrees(calc_ew - np.arcsin(calc_ew_jer))*3600.0,\"arcseconds\""
     ],
     "language": "python",
     "metadata": {},
     "outputs": [
      {
       "output_type": "stream",
       "stream": "stdout",
       "text": [
        "Offset between EB and JER of: 0.0959441950033 arcseconds\n"
       ]
      }
     ],
     "prompt_number": 395
    }
   ],
   "metadata": {}
  }
 ]
}