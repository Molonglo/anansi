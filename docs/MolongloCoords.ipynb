{
 "metadata": {
  "name": "",
  "signature": "sha256:d8f05c1838f7241dc59e3650f2d85e2761aa92cc9148e9537876377b17c81d49"
 },
 "nbformat": 3,
 "nbformat_minor": 0,
 "worksheets": [
  {
   "cells": [
    {
     "cell_type": "markdown",
     "metadata": {},
     "source": [
      "#Molonglo coordinate transformations"
     ]
    },
    {
     "cell_type": "code",
     "collapsed": false,
     "input": [
      "import sympy as sym\n",
      "import numpy as np\n",
      "sym.init_printing(fontsize='5pt',use_latex='mathjax', wrap_line=True)\n",
      "sym.init_session()\n",
      "from sympy.physics.vector import vlatex\n",
      "from sympy.printing import latex"
     ],
     "language": "python",
     "metadata": {},
     "outputs": [
      {
       "output_type": "stream",
       "stream": "stdout",
       "text": [
        "IPython console for SymPy 1.0 (Python 2.7.6-64-bit) (ground types: python)\n",
        "\n",
        "These commands were executed:\n",
        ">>> from __future__ import division\n",
        ">>> from sympy import *\n",
        ">>> x, y, z, t = symbols('x y z t')\n",
        ">>> k, m, n = symbols('k m n', integer=True)\n",
        ">>> f, g, h = symbols('f g h', cls=Function)\n",
        ">>> init_printing()\n",
        "\n",
        "Documentation can be found at http://docs.sympy.org/1.0/\n"
       ]
      }
     ],
     "prompt_number": 500
    },
    {
     "cell_type": "code",
     "collapsed": false,
     "input": [
      "#symbols\n",
      "skew, slope, lat, lon = sym.symbols('skew slope lat lon')\n",
      "\n",
      "#values\n",
      "consts = dict(skew = 2.3755870374367263e-05,\n",
      "              slope = 0.0034494653328734047,                                                          \n",
      "              lat = np.radians(-35.370707),\n",
      "              lon = np.radians(149.424702))"
     ],
     "language": "python",
     "metadata": {},
     "outputs": [],
     "prompt_number": 501
    },
    {
     "cell_type": "code",
     "collapsed": false,
     "input": [
      "def rotation_matrix(angle,d):\n",
      "    directions = {\n",
      "            \"x\":[1,0,0],\n",
      "            \"y\":[0,1,0],\n",
      "            \"z\":[0,0,1]\n",
      "            }\n",
      "    direction = np.array(directions[d])\n",
      "    sina = sym.sin(angle)\n",
      "    cosa = sym.cos(angle)\n",
      "    # rotation matrix around unit vector                                                              \n",
      "    R = sym.Matrix([[cosa,0,0],[0,cosa,0],[0,0,cosa]])\n",
      "    R += sym.Matrix(np.outer(direction, direction)) * (1 - cosa)\n",
      "    direction = sym.Matrix(direction)\n",
      "    direction *= sina\n",
      "    R += sym.Matrix([[ 0,           -direction[2],  direction[1]],\n",
      "                    [ direction[2], 0,             -direction[0]],\n",
      "                    [-direction[1], direction[0],   0]])\n",
      "    return R"
     ],
     "language": "python",
     "metadata": {},
     "outputs": [],
     "prompt_number": 502
    },
    {
     "cell_type": "code",
     "collapsed": false,
     "input": [
      "#reflections\n",
      "def reflection_matrix(d):\n",
      "    m = {\n",
      "    \"x\":[[-1,0,0],[0, 1,0],[0,0, 1]],\n",
      "    \"y\":[[1, 0,0],[0,-1,0],[0,0, 1]],\n",
      "    \"z\":[[1, 0,0],[0, 1,0],[1,0,-1]]\n",
      "    }\n",
      "    return sym.Matrix(m[d])"
     ],
     "language": "python",
     "metadata": {},
     "outputs": [],
     "prompt_number": 503
    },
    {
     "cell_type": "code",
     "collapsed": false,
     "input": [
      "def position_vector(a,b):\n",
      "    return sym.Matrix([[sym.cos(b)*sym.cos(a)],\n",
      "                      [sym.cos(b)*sym.sin(a)],\n",
      "                      [sym.sin(b)]])"
     ],
     "language": "python",
     "metadata": {},
     "outputs": [],
     "prompt_number": 504
    },
    {
     "cell_type": "markdown",
     "metadata": {},
     "source": [
      "#Convert telescope NS, MD to true NS, EW"
     ]
    },
    {
     "cell_type": "code",
     "collapsed": false,
     "input": [
      "# z-axis lies along telescope east to west\n",
      "# using right-hand rule\n",
      "# thumb is z\n",
      "# index is x\n",
      "# middle is y\n",
      "telescope_to_nsew = (rotation_matrix(-skew,\"x\") * rotation_matrix(slope,\"y\"))\n",
      "telescope_to_nsew"
     ],
     "language": "python",
     "metadata": {},
     "outputs": [
      {
       "latex": [
        "$$\\left[\\begin{matrix}\\cos{\\left (slope \\right )} & 0 & \\sin{\\left (slope \\right )}\\\\- \\sin{\\left (skew \\right )} \\sin{\\left (slope \\right )} & \\cos{\\left (skew \\right )} & \\sin{\\left (skew \\right )} \\cos{\\left (slope \\right )}\\\\- \\sin{\\left (slope \\right )} \\cos{\\left (skew \\right )} & - \\sin{\\left (skew \\right )} & \\cos{\\left (skew \\right )} \\cos{\\left (slope \\right )}\\end{matrix}\\right]$$"
       ],
       "metadata": {},
       "output_type": "pyout",
       "png": "[encoded data removed]",
       "prompt_number": 525,
       "text": [
        "\u23a1     cos(slope)            0            sin(slope)     \u23a4\n",
        "\u23a2                                                       \u23a5\n",
        "\u23a2-sin(skew)\u22c5sin(slope)  cos(skew)   sin(skew)\u22c5cos(slope)\u23a5\n",
        "\u23a2                                                       \u23a5\n",
        "\u23a3-sin(slope)\u22c5cos(skew)  -sin(skew)  cos(skew)\u22c5cos(slope)\u23a6"
       ]
      }
     ],
     "prompt_number": 525
    },
    {
     "cell_type": "markdown",
     "metadata": {},
     "source": [
      "#Convert true NS, EW to Az, Elv"
     ]
    },
    {
     "cell_type": "code",
     "collapsed": false,
     "input": [
      "#use reflecion to convert to left-hand rule\n",
      "nsew_to_azel = rotation_matrix(-sym.pi/2,\"x\") * rotation_matrix(sym.pi/2,\"y\") * reflection_matrix(\"x\")    \n",
      "nsew_to_azel\n",
      "\n"
     ],
     "language": "python",
     "metadata": {},
     "outputs": [
      {
       "latex": [
        "$$\\left[\\begin{matrix}0 & 0 & 1\\\\1 & 0 & 0\\\\0 & -1 & 0\\end{matrix}\\right]$$"
       ],
       "metadata": {},
       "output_type": "pyout",
       "png": "[encoded data removed]",
       "prompt_number": 506,
       "text": [
        "\u23a10  0   1\u23a4\n",
        "\u23a2        \u23a5\n",
        "\u23a21  0   0\u23a5\n",
        "\u23a2        \u23a5\n",
        "\u23a30  -1  0\u23a6"
       ]
      }
     ],
     "prompt_number": 506
    },
    {
     "cell_type": "markdown",
     "metadata": {},
     "source": [
      "#Convert telescope NS, MD to Az, Elv"
     ]
    },
    {
     "cell_type": "code",
     "collapsed": false,
     "input": [
      "telescope_to_azel = (telescope_to_nsew * nsew_to_azel)\n",
      "telescope_to_azel"
     ],
     "language": "python",
     "metadata": {},
     "outputs": [
      {
       "latex": [
        "$$\\left[\\begin{matrix}0 & - \\sin{\\left (slope \\right )} & \\cos{\\left (slope \\right )}\\\\\\cos{\\left (skew \\right )} & - \\sin{\\left (skew \\right )} \\cos{\\left (slope \\right )} & - \\sin{\\left (skew \\right )} \\sin{\\left (slope \\right )}\\\\- \\sin{\\left (skew \\right )} & - \\cos{\\left (skew \\right )} \\cos{\\left (slope \\right )} & - \\sin{\\left (slope \\right )} \\cos{\\left (skew \\right )}\\end{matrix}\\right]$$"
       ],
       "metadata": {},
       "output_type": "pyout",
       "png": "[encoded data removed]",
       "prompt_number": 507,
       "text": [
        "\u23a1    0            -sin(slope)            cos(slope)      \u23a4\n",
        "\u23a2                                                        \u23a5\n",
        "\u23a2cos(skew)   -sin(skew)\u22c5cos(slope)  -sin(skew)\u22c5sin(slope)\u23a5\n",
        "\u23a2                                                        \u23a5\n",
        "\u23a3-sin(skew)  -cos(skew)\u22c5cos(slope)  -sin(slope)\u22c5cos(skew)\u23a6"
       ]
      }
     ],
     "prompt_number": 507
    },
    {
     "cell_type": "markdown",
     "metadata": {},
     "source": [
      "#Convert Az, Elv to HA, Dec"
     ]
    },
    {
     "cell_type": "code",
     "collapsed": false,
     "input": [
      "azel_to_hadec = rotation_matrix(sym.pi/2-lat,\"y\") * rotation_matrix(sym.pi,\"z\")\n",
      "azel_to_hadec"
     ],
     "language": "python",
     "metadata": {},
     "outputs": [
      {
       "latex": [
        "$$\\left[\\begin{matrix}- \\sin{\\left (lat \\right )} & 0 & \\cos{\\left (lat \\right )}\\\\0 & -1 & 0\\\\\\cos{\\left (lat \\right )} & 0 & \\sin{\\left (lat \\right )}\\end{matrix}\\right]$$"
       ],
       "metadata": {},
       "output_type": "pyout",
       "png": "[encoded data removed]",
       "prompt_number": 508,
       "text": [
        "\u23a1-sin(lat)  0   cos(lat)\u23a4\n",
        "\u23a2                       \u23a5\n",
        "\u23a2    0      -1     0    \u23a5\n",
        "\u23a2                       \u23a5\n",
        "\u23a3cos(lat)   0   sin(lat)\u23a6"
       ]
      }
     ],
     "prompt_number": 508
    },
    {
     "cell_type": "markdown",
     "metadata": {},
     "source": [
      "#Convert telescope NS, MD to HA, Dec"
     ]
    },
    {
     "cell_type": "code",
     "collapsed": false,
     "input": [
      "telescope_to_hadec = telescope_to_azel * azel_to_hadec\n",
      "telescope_to_hadec"
     ],
     "language": "python",
     "metadata": {},
     "outputs": [
      {
       "latex": [
        "$$\\left[\\begin{matrix}\\cos{\\left (lat \\right )} \\cos{\\left (slope \\right )} & \\sin{\\left (slope \\right )} & \\sin{\\left (lat \\right )} \\cos{\\left (slope \\right )}\\\\- \\sin{\\left (lat \\right )} \\cos{\\left (skew \\right )} - \\sin{\\left (skew \\right )} \\sin{\\left (slope \\right )} \\cos{\\left (lat \\right )} & \\sin{\\left (skew \\right )} \\cos{\\left (slope \\right )} & - \\sin{\\left (lat \\right )} \\sin{\\left (skew \\right )} \\sin{\\left (slope \\right )} + \\cos{\\left (lat \\right )} \\cos{\\left (skew \\right )}\\\\\\sin{\\left (lat \\right )} \\sin{\\left (skew \\right )} - \\sin{\\left (slope \\right )} \\cos{\\left (lat \\right )} \\cos{\\left (skew \\right )} & \\cos{\\left (skew \\right )} \\cos{\\left (slope \\right )} & - \\sin{\\left (lat \\right )} \\sin{\\left (slope \\right )} \\cos{\\left (skew \\right )} - \\sin{\\left (skew \\right )} \\cos{\\left (lat \\right )}\\end{matrix}\\right]$$"
       ],
       "metadata": {},
       "output_type": "pyout",
       "png": "[encoded data removed]",
       "prompt_number": 550,
       "text": [
        "\u23a1                cos(lat)\u22c5cos(slope)                       sin(slope)         \n",
        "\u23a2                                                                             \n",
        "\u23a2-sin(lat)\u22c5cos(skew) - sin(skew)\u22c5sin(slope)\u22c5cos(lat)  sin(skew)\u22c5cos(slope)  -s\n",
        "\u23a2                                                                             \n",
        "\u23a3sin(lat)\u22c5sin(skew) - sin(slope)\u22c5cos(lat)\u22c5cos(skew)   cos(skew)\u22c5cos(slope)  -s\n",
        "\n",
        "              sin(lat)\u22c5cos(slope)                \u23a4\n",
        "                                                 \u23a5\n",
        "in(lat)\u22c5sin(skew)\u22c5sin(slope) + cos(lat)\u22c5cos(skew)\u23a5\n",
        "                                                 \u23a5\n",
        "in(lat)\u22c5sin(slope)\u22c5cos(skew) - sin(skew)\u22c5cos(lat)\u23a6"
       ]
      }
     ],
     "prompt_number": 550
    },
    {
     "cell_type": "markdown",
     "metadata": {},
     "source": [
      "#Convert HA, Dec to telescope NS, MD"
     ]
    },
    {
     "cell_type": "code",
     "collapsed": false,
     "input": [
      "telescope_to_hadec.T"
     ],
     "language": "python",
     "metadata": {},
     "outputs": [
      {
       "latex": [
        "$$\\left[\\begin{matrix}\\cos{\\left (lat \\right )} \\cos{\\left (slope \\right )} & - \\sin{\\left (lat \\right )} \\cos{\\left (skew \\right )} - \\sin{\\left (skew \\right )} \\sin{\\left (slope \\right )} \\cos{\\left (lat \\right )} & \\sin{\\left (lat \\right )} \\sin{\\left (skew \\right )} - \\sin{\\left (slope \\right )} \\cos{\\left (lat \\right )} \\cos{\\left (skew \\right )}\\\\\\sin{\\left (slope \\right )} & \\sin{\\left (skew \\right )} \\cos{\\left (slope \\right )} & \\cos{\\left (skew \\right )} \\cos{\\left (slope \\right )}\\\\\\sin{\\left (lat \\right )} \\cos{\\left (slope \\right )} & - \\sin{\\left (lat \\right )} \\sin{\\left (skew \\right )} \\sin{\\left (slope \\right )} + \\cos{\\left (lat \\right )} \\cos{\\left (skew \\right )} & - \\sin{\\left (lat \\right )} \\sin{\\left (slope \\right )} \\cos{\\left (skew \\right )} - \\sin{\\left (skew \\right )} \\cos{\\left (lat \\right )}\\end{matrix}\\right]$$"
       ],
       "metadata": {},
       "output_type": "pyout",
       "png": "[encoded data removed]",
       "prompt_number": 510,
       "text": [
        "\u23a1cos(lat)\u22c5cos(slope)  -sin(lat)\u22c5cos(skew) - sin(skew)\u22c5sin(slope)\u22c5cos(lat)  sin\n",
        "\u23a2                                                                             \n",
        "\u23a2    sin(slope)                      sin(skew)\u22c5cos(slope)                     \n",
        "\u23a2                                                                             \n",
        "\u23a3sin(lat)\u22c5cos(slope)  -sin(lat)\u22c5sin(skew)\u22c5sin(slope) + cos(lat)\u22c5cos(skew)  -si\n",
        "\n",
        "(lat)\u22c5sin(skew) - sin(slope)\u22c5cos(lat)\u22c5cos(skew) \u23a4\n",
        "                                                \u23a5\n",
        "            cos(skew)\u22c5cos(slope)                \u23a5\n",
        "                                                \u23a5\n",
        "n(lat)\u22c5sin(slope)\u22c5cos(skew) - sin(skew)\u22c5cos(lat)\u23a6"
       ]
      }
     ],
     "prompt_number": 510
    },
    {
     "cell_type": "markdown",
     "metadata": {},
     "source": [
      "#Position vectors"
     ]
    },
    {
     "cell_type": "code",
     "collapsed": false,
     "input": [
      "HA,Dec = sym.symbols('HA Dec')\n",
      "hadec_vec = position_vector(HA,Dec)\n",
      "hadec_vec"
     ],
     "language": "python",
     "metadata": {},
     "outputs": [
      {
       "latex": [
        "$$\\left[\\begin{matrix}\\cos{\\left (Dec \\right )} \\cos{\\left (HA \\right )}\\\\\\sin{\\left (HA \\right )} \\cos{\\left (Dec \\right )}\\\\\\sin{\\left (Dec \\right )}\\end{matrix}\\right]$$"
       ],
       "metadata": {},
       "output_type": "pyout",
       "png": "[encoded data removed]",
       "prompt_number": 511,
       "text": [
        "\u23a1cos(Dec)\u22c5cos(HA)\u23a4\n",
        "\u23a2                \u23a5\n",
        "\u23a2sin(HA)\u22c5cos(Dec)\u23a5\n",
        "\u23a2                \u23a5\n",
        "\u23a3    sin(Dec)    \u23a6"
       ]
      }
     ],
     "prompt_number": 511
    },
    {
     "cell_type": "code",
     "collapsed": false,
     "input": [
      "ns,ew = sym.symbols('NS EW')\n",
      "nsew_vec = position_vector(ns,ew)\n",
      "nsew_vec"
     ],
     "language": "python",
     "metadata": {},
     "outputs": [
      {
       "latex": [
        "$$\\left[\\begin{matrix}\\cos{\\left (EW \\right )} \\cos{\\left (NS \\right )}\\\\\\sin{\\left (NS \\right )} \\cos{\\left (EW \\right )}\\\\\\sin{\\left (EW \\right )}\\end{matrix}\\right]$$"
       ],
       "metadata": {},
       "output_type": "pyout",
       "png": "[encoded data removed]",
       "prompt_number": 512,
       "text": [
        "\u23a1cos(EW)\u22c5cos(NS)\u23a4\n",
        "\u23a2               \u23a5\n",
        "\u23a2sin(NS)\u22c5cos(EW)\u23a5\n",
        "\u23a2               \u23a5\n",
        "\u23a3    sin(EW)    \u23a6"
       ]
      }
     ],
     "prompt_number": 512
    },
    {
     "cell_type": "code",
     "collapsed": false,
     "input": [
      "az,el = sym.symbols('Az El')\n",
      "azel_vec = position_vector(az,el)\n",
      "azel_vec"
     ],
     "language": "python",
     "metadata": {},
     "outputs": [
      {
       "latex": [
        "$$\\left[\\begin{matrix}\\cos{\\left (Az \\right )} \\cos{\\left (El \\right )}\\\\\\sin{\\left (Az \\right )} \\cos{\\left (El \\right )}\\\\\\sin{\\left (El \\right )}\\end{matrix}\\right]$$"
       ],
       "metadata": {},
       "output_type": "pyout",
       "png": "[encoded data removed]",
       "prompt_number": 537,
       "text": [
        "\u23a1cos(Az)\u22c5cos(El)\u23a4\n",
        "\u23a2               \u23a5\n",
        "\u23a2sin(Az)\u22c5cos(El)\u23a5\n",
        "\u23a2               \u23a5\n",
        "\u23a3    sin(El)    \u23a6"
       ]
      }
     ],
     "prompt_number": 537
    },
    {
     "cell_type": "markdown",
     "metadata": {},
     "source": [
      "#Full equation for HA, Dec to telescope NS, MD"
     ]
    },
    {
     "cell_type": "code",
     "collapsed": false,
     "input": [
      "equations = sym.Eq(nsew_vec,(telescope_to_hadec * hadec_vec))\n",
      "equations"
     ],
     "language": "python",
     "metadata": {},
     "outputs": [
      {
       "latex": [
        "$$\\left[\\begin{matrix}\\cos{\\left (EW \\right )} \\cos{\\left (NS \\right )}\\\\\\sin{\\left (NS \\right )} \\cos{\\left (EW \\right )}\\\\\\sin{\\left (EW \\right )}\\end{matrix}\\right] = \\left[\\begin{matrix}\\sin{\\left (Dec \\right )} \\sin{\\left (lat \\right )} \\cos{\\left (slope \\right )} + \\sin{\\left (HA \\right )} \\sin{\\left (slope \\right )} \\cos{\\left (Dec \\right )} + \\cos{\\left (Dec \\right )} \\cos{\\left (HA \\right )} \\cos{\\left (lat \\right )} \\cos{\\left (slope \\right )}\\\\\\left(- \\sin{\\left (lat \\right )} \\cos{\\left (skew \\right )} - \\sin{\\left (skew \\right )} \\sin{\\left (slope \\right )} \\cos{\\left (lat \\right )}\\right) \\cos{\\left (Dec \\right )} \\cos{\\left (HA \\right )} + \\left(- \\sin{\\left (lat \\right )} \\sin{\\left (skew \\right )} \\sin{\\left (slope \\right )} + \\cos{\\left (lat \\right )} \\cos{\\left (skew \\right )}\\right) \\sin{\\left (Dec \\right )} + \\sin{\\left (HA \\right )} \\sin{\\left (skew \\right )} \\cos{\\left (Dec \\right )} \\cos{\\left (slope \\right )}\\\\\\left(\\sin{\\left (lat \\right )} \\sin{\\left (skew \\right )} - \\sin{\\left (slope \\right )} \\cos{\\left (lat \\right )} \\cos{\\left (skew \\right )}\\right) \\cos{\\left (Dec \\right )} \\cos{\\left (HA \\right )} + \\left(- \\sin{\\left (lat \\right )} \\sin{\\left (slope \\right )} \\cos{\\left (skew \\right )} - \\sin{\\left (skew \\right )} \\cos{\\left (lat \\right )}\\right) \\sin{\\left (Dec \\right )} + \\sin{\\left (HA \\right )} \\cos{\\left (Dec \\right )} \\cos{\\left (skew \\right )} \\cos{\\left (slope \\right )}\\end{matrix}\\right]$$"
       ],
       "metadata": {},
       "output_type": "pyout",
       "png": "[encoded data removed]",
       "prompt_number": 513,
       "text": [
        "\u23a1cos(EW)\u22c5cos(NS)\u23a4 = \u23a1                                       sin(Dec)\u22c5sin(lat)\u22c5\n",
        "\u23a2               \u23a5   \u23a2                                                         \n",
        "\u23a2sin(NS)\u22c5cos(EW)\u23a5   \u23a2(-sin(lat)\u22c5cos(skew) - sin(skew)\u22c5sin(slope)\u22c5cos(lat))\u22c5cos\n",
        "\u23a2               \u23a5   \u23a2                                                         \n",
        "\u23a3    sin(EW)    \u23a6   \u23a3(sin(lat)\u22c5sin(skew) - sin(slope)\u22c5cos(lat)\u22c5cos(skew))\u22c5cos(\n",
        "\n",
        "cos(slope) + sin(HA)\u22c5sin(slope)\u22c5cos(Dec) + cos(Dec)\u22c5cos(HA)\u22c5cos(lat)\u22c5cos(slope\n",
        "                                                                              \n",
        "(Dec)\u22c5cos(HA) + (-sin(lat)\u22c5sin(skew)\u22c5sin(slope) + cos(lat)\u22c5cos(skew))\u22c5sin(Dec)\n",
        "                                                                              \n",
        "Dec)\u22c5cos(HA) + (-sin(lat)\u22c5sin(slope)\u22c5cos(skew) - sin(skew)\u22c5cos(lat))\u22c5sin(Dec) \n",
        "\n",
        ")                                       \u23a4\n",
        "                                        \u23a5\n",
        " + sin(HA)\u22c5sin(skew)\u22c5cos(Dec)\u22c5cos(slope)\u23a5\n",
        "                                        \u23a5\n",
        "+ sin(HA)\u22c5cos(Dec)\u22c5cos(skew)\u22c5cos(slope) \u23a6"
       ]
      }
     ],
     "prompt_number": 513
    },
    {
     "cell_type": "markdown",
     "metadata": {},
     "source": [
      "#Using and example HA and Dec"
     ]
    },
    {
     "cell_type": "code",
     "collapsed": false,
     "input": [
      "values = consts.copy()\n",
      "values.update({HA:1.0,Dec:0.8})\n",
      "e = equations.subs(values)\n",
      "e"
     ],
     "language": "python",
     "metadata": {},
     "outputs": [
      {
       "latex": [
        "$$\\left[\\begin{matrix}\\cos{\\left (EW \\right )} \\cos{\\left (NS \\right )}\\\\\\sin{\\left (NS \\right )} \\cos{\\left (EW \\right )}\\\\\\sin{\\left (EW \\right )}\\end{matrix}\\right] = \\left[\\begin{matrix}-0.106277123772499\\\\0.802866409308139\\\\0.586609496826723\\end{matrix}\\right]$$"
       ],
       "metadata": {},
       "output_type": "pyout",
       "png": "[encoded data removed]",
       "prompt_number": 514,
       "text": [
        "\u23a1cos(EW)\u22c5cos(NS)\u23a4 = \u23a1-0.106277123772499\u23a4\n",
        "\u23a2               \u23a5   \u23a2                  \u23a5\n",
        "\u23a2sin(NS)\u22c5cos(EW)\u23a5   \u23a20.802866409308139 \u23a5\n",
        "\u23a2               \u23a5   \u23a2                  \u23a5\n",
        "\u23a3    sin(EW)    \u23a6   \u23a30.586609496826723 \u23a6"
       ]
      }
     ],
     "prompt_number": 514
    },
    {
     "cell_type": "code",
     "collapsed": false,
     "input": [
      "# caluclate ew using full matrix\n",
      "a,b,c = np.array((telescope_to_hadec * hadec_vec).subs(values)).astype('float64').squeeze()\n",
      "calc_ew = np.arcsin(c)\n",
      "calc_ns = np.arctan2(b,a)\n",
      "print \"(EB) NS, EW (radians) = \",calc_ns,\", \",calc_ew"
     ],
     "language": "python",
     "metadata": {},
     "outputs": [
      {
       "output_type": "stream",
       "stream": "stdout",
       "text": [
        "(EB) NS, EW (radians) =  1.70240331085 ,  0.626865982991\n"
       ]
      }
     ],
     "prompt_number": 515
    },
    {
     "cell_type": "code",
     "collapsed": false,
     "input": [
      "def jer_delay(ha_source,dec_source, tilt=slope, skew=skew, latitude=lat):\n",
      "    from numpy import sin,cos\n",
      "    return sin(ha_source)*cos(dec_source)*cos(tilt) + \\\n",
      "            cos(ha_source)*cos(dec_source)* (skew*sin(latitude)-sin(tilt)*cos(latitude))- \\\n",
      "            sin(dec_source)*(skew*cos(latitude)+sin(tilt)*sin(latitude))"
     ],
     "language": "python",
     "metadata": {},
     "outputs": [],
     "prompt_number": 516
    },
    {
     "cell_type": "code",
     "collapsed": false,
     "input": [
      "# calculate ew using jer delay\n",
      "calc_ew_jer = jer_delay(values[HA],values[Dec],tilt=values['slope'],skew=values['skew'],latitude=values['lat'])\n",
      "print \"(JER) EW (radians) = \",np.arcsin(calc_ew_jer)"
     ],
     "language": "python",
     "metadata": {},
     "outputs": [
      {
       "output_type": "stream",
       "stream": "stdout",
       "text": [
        "(JER) EW (radians) =  0.626865983195\n"
       ]
      }
     ],
     "prompt_number": 517
    },
    {
     "cell_type": "code",
     "collapsed": false,
     "input": [
      "#difference between JER and full matrix\n",
      "print \"Offset between EB and JER of:\",np.degrees(calc_ew - np.arcsin(calc_ew_jer))*3600.0,\"arcseconds\""
     ],
     "language": "python",
     "metadata": {},
     "outputs": [
      {
       "output_type": "stream",
       "stream": "stdout",
       "text": [
        "Offset between EB and JER of: -4.2158041114e-05 arcseconds\n"
       ]
      }
     ],
     "prompt_number": 518
    },
    {
     "cell_type": "markdown",
     "metadata": {},
     "source": [
      "#JER equation"
     ]
    },
    {
     "cell_type": "code",
     "collapsed": false,
     "input": [
      "#JER equation\n",
      "sym.Eq(sin(ew),sin(HA)*cos(Dec)*cos(slope) + \\\n",
      "cos(HA)*cos(Dec)* (skew*sin(lat)-sin(slope)*cos(lat))- \\\n",
      "sin(Dec)*(skew*cos(lat)+sin(slope)*sin(lat)))"
     ],
     "language": "python",
     "metadata": {},
     "outputs": [
      {
       "latex": [
        "$$\\sin{\\left (EW \\right )} = \\left(skew \\sin{\\left (lat \\right )} - \\sin{\\left (slope \\right )} \\cos{\\left (lat \\right )}\\right) \\cos{\\left (Dec \\right )} \\cos{\\left (HA \\right )} - \\left(skew \\cos{\\left (lat \\right )} + \\sin{\\left (lat \\right )} \\sin{\\left (slope \\right )}\\right) \\sin{\\left (Dec \\right )} + \\sin{\\left (HA \\right )} \\cos{\\left (Dec \\right )} \\cos{\\left (slope \\right )}$$"
       ],
       "metadata": {},
       "output_type": "pyout",
       "png": "[encoded data removed]",
       "prompt_number": 519,
       "text": [
        "sin(EW) = (skew\u22c5sin(lat) - sin(slope)\u22c5cos(lat))\u22c5cos(Dec)\u22c5cos(HA) - (skew\u22c5cos(l\n",
        "at) + sin(lat)\u22c5sin(slope))\u22c5sin(Dec) + sin(HA)\u22c5cos(Dec)\u22c5cos(slope)"
       ]
      }
     ],
     "prompt_number": 519
    },
    {
     "cell_type": "markdown",
     "metadata": {},
     "source": [
      "#Full rotation"
     ]
    },
    {
     "cell_type": "code",
     "collapsed": false,
     "input": [
      "new_eq = sym.Eq(nsew_vec[2],(telescope_to_hadec * hadec_vec)[2])\n",
      "new_eq"
     ],
     "language": "python",
     "metadata": {},
     "outputs": [
      {
       "latex": [
        "$$\\sin{\\left (EW \\right )} = \\left(\\sin{\\left (lat \\right )} \\sin{\\left (skew \\right )} - \\sin{\\left (slope \\right )} \\cos{\\left (lat \\right )} \\cos{\\left (skew \\right )}\\right) \\cos{\\left (Dec \\right )} \\cos{\\left (HA \\right )} + \\left(- \\sin{\\left (lat \\right )} \\sin{\\left (slope \\right )} \\cos{\\left (skew \\right )} - \\sin{\\left (skew \\right )} \\cos{\\left (lat \\right )}\\right) \\sin{\\left (Dec \\right )} + \\sin{\\left (HA \\right )} \\cos{\\left (Dec \\right )} \\cos{\\left (skew \\right )} \\cos{\\left (slope \\right )}$$"
       ],
       "metadata": {},
       "output_type": "pyout",
       "png": "[encoded data removed]",
       "prompt_number": 520,
       "text": [
        "sin(EW) = (sin(lat)\u22c5sin(skew) - sin(slope)\u22c5cos(lat)\u22c5cos(skew))\u22c5cos(Dec)\u22c5cos(HA\n",
        ") + (-sin(lat)\u22c5sin(slope)\u22c5cos(skew) - sin(skew)\u22c5cos(lat))\u22c5sin(Dec) + sin(HA)\u22c5c\n",
        "os(Dec)\u22c5cos(skew)\u22c5cos(slope)"
       ]
      }
     ],
     "prompt_number": 520
    },
    {
     "cell_type": "markdown",
     "metadata": {},
     "source": [
      "#Simplification of full rotation produces JER equation"
     ]
    },
    {
     "cell_type": "code",
     "collapsed": false,
     "input": [
      "#might not be obvious, but the skew terms now become fractions or go to 1.\n",
      "simplified = nsimplify(new_eq.subs({skew:values['skew']}),tolerance=0.000000001)\n",
      "simplified"
     ],
     "language": "python",
     "metadata": {},
     "outputs": [
      {
       "latex": [
        "$$\\sin{\\left (EW \\right )} = \\left(- \\sin{\\left (lat \\right )} \\sin{\\left (slope \\right )} - \\frac{19325}{813483139} \\cos{\\left (lat \\right )}\\right) \\sin{\\left (Dec \\right )} + \\left(\\frac{19325}{813483139} \\sin{\\left (lat \\right )} - \\sin{\\left (slope \\right )} \\cos{\\left (lat \\right )}\\right) \\cos{\\left (Dec \\right )} \\cos{\\left (HA \\right )} + \\sin{\\left (HA \\right )} \\cos{\\left (Dec \\right )} \\cos{\\left (slope \\right )}$$"
       ],
       "metadata": {},
       "output_type": "pyout",
       "png": "[encoded data removed]",
       "prompt_number": 521,
       "text": [
        "          \u239b                       19325\u22c5cos(lat)\u239e            \u239b19325\u22c5sin(lat)  \n",
        "sin(EW) = \u239c-sin(lat)\u22c5sin(slope) - \u2500\u2500\u2500\u2500\u2500\u2500\u2500\u2500\u2500\u2500\u2500\u2500\u2500\u2500\u239f\u22c5sin(Dec) + \u239c\u2500\u2500\u2500\u2500\u2500\u2500\u2500\u2500\u2500\u2500\u2500\u2500\u2500\u2500 -\n",
        "          \u239d                         813483139   \u23a0            \u239d  813483139     \n",
        "\n",
        "                    \u239e                                               \n",
        " sin(slope)\u22c5cos(lat)\u239f\u22c5cos(Dec)\u22c5cos(HA) + sin(HA)\u22c5cos(Dec)\u22c5cos(slope)\n",
        "                    \u23a0                                               "
       ]
      }
     ],
     "prompt_number": 521
    },
    {
     "cell_type": "code",
     "collapsed": false,
     "input": [
      "simple_ew = float(solve(simplified.subs(values),ew)[0])\n",
      "print \"Offset between EB (simple) and JER of:\",np.degrees(simple_ew - np.arcsin(calc_ew_jer))*3600.0,\"arcseconds\""
     ],
     "language": "python",
     "metadata": {},
     "outputs": [
      {
       "output_type": "stream",
       "stream": "stdout",
       "text": [
        "Offset between EB (simple) and JER of: 3.89299893011e-10 arcseconds\n"
       ]
      }
     ],
     "prompt_number": 522
    },
    {
     "cell_type": "markdown",
     "metadata": {},
     "source": [
      "#Substituting in constants"
     ]
    },
    {
     "cell_type": "code",
     "collapsed": false,
     "input": [
      "new_eq.subs(consts)"
     ],
     "language": "python",
     "metadata": {},
     "outputs": [
      {
       "latex": [
        "$$\\sin{\\left (EW \\right )} = 0.00197739746120948 \\sin{\\left (Dec \\right )} + 0.999994050318189 \\sin{\\left (HA \\right )} \\cos{\\left (Dec \\right )} - 0.00282652215698604 \\cos{\\left (Dec \\right )} \\cos{\\left (HA \\right )}$$"
       ],
       "metadata": {},
       "output_type": "pyout",
       "png": "[encoded data removed]",
       "prompt_number": 527,
       "text": [
        "sin(EW) = 0.00197739746120948\u22c5sin(Dec) + 0.999994050318189\u22c5sin(HA)\u22c5cos(Dec) - \n",
        "0.00282652215698604\u22c5cos(Dec)\u22c5cos(HA)"
       ]
      }
     ],
     "prompt_number": 527
    },
    {
     "cell_type": "code",
     "collapsed": false,
     "input": [
      "ns_eq = sym.Eq(nsew_vec[0],(telescope_to_hadec * hadec_vec)[0])\n",
      "ns_eq = ns_eq.subs(consts)\n",
      "ns_eq"
     ],
     "language": "python",
     "metadata": {},
     "outputs": [
      {
       "latex": [
        "$$\\cos{\\left (EW \\right )} \\cos{\\left (NS \\right )} = - 0.578860911092984 \\sin{\\left (Dec \\right )} + 0.00344945849212142 \\sin{\\left (HA \\right )} \\cos{\\left (Dec \\right )} + 0.815419000787148 \\cos{\\left (Dec \\right )} \\cos{\\left (HA \\right )}$$"
       ],
       "metadata": {},
       "output_type": "pyout",
       "png": "[encoded data removed]",
       "prompt_number": 528,
       "text": [
        "cos(EW)\u22c5cos(NS) = -0.578860911092984\u22c5sin(Dec) + 0.00344945849212142\u22c5sin(HA)\u22c5co\n",
        "s(Dec) + 0.815419000787148\u22c5cos(Dec)\u22c5cos(HA)"
       ]
      }
     ],
     "prompt_number": 528
    },
    {
     "cell_type": "markdown",
     "metadata": {},
     "source": [
      "#Inversion"
     ]
    },
    {
     "cell_type": "code",
     "collapsed": false,
     "input": [
      "inv_dec = sym.Eq(hadec_vec[2],(telescope_to_hadec.T * nsew_vec)[2])\n",
      "inv_dec.subs(consts)"
     ],
     "language": "python",
     "metadata": {},
     "outputs": [
      {
       "latex": [
        "$$\\sin{\\left (Dec \\right )} = 0.00197739746120948 \\sin{\\left (EW \\right )} + 0.815423899274408 \\sin{\\left (NS \\right )} \\cos{\\left (EW \\right )} - 0.578860911092984 \\cos{\\left (EW \\right )} \\cos{\\left (NS \\right )}$$"
       ],
       "metadata": {},
       "output_type": "pyout",
       "png": "[encoded data removed]",
       "prompt_number": 535,
       "text": [
        "sin(Dec) = 0.00197739746120948\u22c5sin(EW) + 0.815423899274408\u22c5sin(NS)\u22c5cos(EW) - 0\n",
        ".578860911092984\u22c5cos(EW)\u22c5cos(NS)"
       ]
      }
     ],
     "prompt_number": 535
    },
    {
     "cell_type": "code",
     "collapsed": false,
     "input": [
      "inv_ha = sym.Eq(hadec_vec[1],(telescope_to_hadec.T * nsew_vec)[1])\n",
      "inv_ha.subs(consts)"
     ],
     "language": "python",
     "metadata": {},
     "outputs": [
      {
       "latex": [
        "$$\\sin{\\left (HA \\right )} \\cos{\\left (Dec \\right )} = 0.999994050318189 \\sin{\\left (EW \\right )} + 2.37557290389662 \\cdot 10^{-5} \\sin{\\left (NS \\right )} \\cos{\\left (EW \\right )} + 0.00344945849212142 \\cos{\\left (EW \\right )} \\cos{\\left (NS \\right )}$$"
       ],
       "metadata": {},
       "output_type": "pyout",
       "png": "[encoded data removed]",
       "prompt_number": 536,
       "text": [
        "sin(HA)\u22c5cos(Dec) = 0.999994050318189\u22c5sin(EW) + 2.37557290389662e-5\u22c5sin(NS)\u22c5cos\n",
        "(EW) + 0.00344945849212142\u22c5cos(EW)\u22c5cos(NS)"
       ]
      }
     ],
     "prompt_number": 536
    },
    {
     "cell_type": "markdown",
     "metadata": {},
     "source": [
      "#AzElv conversions\n",
      "**Forward**"
     ]
    },
    {
     "cell_type": "code",
     "collapsed": false,
     "input": [
      "ew_from_azel = sym.Eq(nsew_vec[2],(telescope_to_azel * azel_vec)[2])\n",
      "ew_from_azel.subs(consts)"
     ],
     "language": "python",
     "metadata": {},
     "outputs": [
      {
       "latex": [
        "$$\\sin{\\left (EW \\right )} = - 0.999994050318189 \\sin{\\left (Az \\right )} \\cos{\\left (El \\right )} - 0.00344945849114808 \\sin{\\left (El \\right )} - 2.37558703721329 \\cdot 10^{-5} \\cos{\\left (Az \\right )} \\cos{\\left (El \\right )}$$"
       ],
       "metadata": {},
       "output_type": "pyout",
       "png": "[encoded data removed]",
       "prompt_number": 545,
       "text": [
        "sin(EW) = -0.999994050318189\u22c5sin(Az)\u22c5cos(El) - 0.00344945849114808\u22c5sin(El) - 2\n",
        ".37558703721329e-5\u22c5cos(Az)\u22c5cos(El)"
       ]
      }
     ],
     "prompt_number": 545
    },
    {
     "cell_type": "code",
     "collapsed": false,
     "input": [
      "ns_from_azel = sym.Eq(nsew_vec[1],(telescope_to_azel * azel_vec)[1])\n",
      "ns_from_azel.subs(consts)"
     ],
     "language": "python",
     "metadata": {},
     "outputs": [
      {
       "latex": [
        "$$\\sin{\\left (NS \\right )} \\cos{\\left (EW \\right )} = - 2.37557290389662 \\cdot 10^{-5} \\sin{\\left (Az \\right )} \\cos{\\left (El \\right )} - 8.19448887928893 \\cdot 10^{-8} \\sin{\\left (El \\right )} + 0.999999999717829 \\cos{\\left (Az \\right )} \\cos{\\left (El \\right )}$$"
       ],
       "metadata": {},
       "output_type": "pyout",
       "png": "[encoded data removed]",
       "prompt_number": 544,
       "text": [
        "sin(NS)\u22c5cos(EW) = -2.37557290389662e-5\u22c5sin(Az)\u22c5cos(El) - 8.19448887928893e-8\u22c5s\n",
        "in(El) + 0.999999999717829\u22c5cos(Az)\u22c5cos(El)"
       ]
      }
     ],
     "prompt_number": 544
    },
    {
     "cell_type": "markdown",
     "metadata": {},
     "source": [
      "**inverse**"
     ]
    },
    {
     "cell_type": "code",
     "collapsed": false,
     "input": [
      "el_from_nsew = sym.Eq(azel_vec[2],(telescope_to_azel.T * nsew_vec)[2])\n",
      "el_from_nsew.subs(consts)"
     ],
     "language": "python",
     "metadata": {},
     "outputs": [
      {
       "latex": [
        "$$\\sin{\\left (El \\right )} = - 0.00344945849114808 \\sin{\\left (EW \\right )} - 8.19448887928893 \\cdot 10^{-8} \\sin{\\left (NS \\right )} \\cos{\\left (EW \\right )} + 0.999994050600358 \\cos{\\left (EW \\right )} \\cos{\\left (NS \\right )}$$"
       ],
       "metadata": {},
       "output_type": "pyout",
       "png": "[encoded data removed]",
       "prompt_number": 548,
       "text": [
        "sin(El) = -0.00344945849114808\u22c5sin(EW) - 8.19448887928893e-8\u22c5sin(NS)\u22c5cos(EW) +\n",
        " 0.999994050600358\u22c5cos(EW)\u22c5cos(NS)"
       ]
      }
     ],
     "prompt_number": 548
    },
    {
     "cell_type": "code",
     "collapsed": false,
     "input": [
      "az_from_nsew = sym.Eq(azel_vec[1],(telescope_to_azel.T * nsew_vec)[1])\n",
      "az_from_nsew.subs(consts)"
     ],
     "language": "python",
     "metadata": {},
     "outputs": [
      {
       "latex": [
        "$$\\sin{\\left (Az \\right )} \\cos{\\left (El \\right )} = - 0.999994050318189 \\sin{\\left (EW \\right )} - 2.37557290389662 \\cdot 10^{-5} \\sin{\\left (NS \\right )} \\cos{\\left (EW \\right )} - 0.00344945849212142 \\cos{\\left (EW \\right )} \\cos{\\left (NS \\right )}$$"
       ],
       "metadata": {},
       "output_type": "pyout",
       "png": "[encoded data removed]",
       "prompt_number": 549,
       "text": [
        "sin(Az)\u22c5cos(El) = -0.999994050318189\u22c5sin(EW) - 2.37557290389662e-5\u22c5sin(NS)\u22c5cos\n",
        "(EW) - 0.00344945849212142\u22c5cos(EW)\u22c5cos(NS)"
       ]
      }
     ],
     "prompt_number": 549
    },
    {
     "cell_type": "code",
     "collapsed": false,
     "input": [
      "#func_ = (asin((telescope_to_azel.T * nsew_vec)[2])).subs(consts)\n",
      "#z = sym.lambdify((ns,ew),func_,'numpy',dummify=False)\n",
      "#z(0.1,0.2)"
     ],
     "language": "python",
     "metadata": {},
     "outputs": [],
     "prompt_number": 574
    },
    {
     "cell_type": "code",
     "collapsed": false,
     "input": [],
     "language": "python",
     "metadata": {},
     "outputs": [],
     "prompt_number": 573
    },
    {
     "cell_type": "code",
     "collapsed": false,
     "input": [],
     "language": "python",
     "metadata": {},
     "outputs": []
    }
   ],
   "metadata": {}
  }
 ]
}