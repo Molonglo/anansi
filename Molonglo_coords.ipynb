{
 "metadata": {
  "name": "",
  "signature": "sha256:3ec462471feec46f8371858924b3f80f48c256b44acbd410ea913422af87c259"
 },
 "nbformat": 3,
 "nbformat_minor": 0,
 "worksheets": [
  {
   "cells": [
    {
     "cell_type": "markdown",
     "metadata": {},
     "source": [
      "# Molonglo coordinate transforms\n",
      "Useful coordinate transforms for the molonglo radio telescope"
     ]
    },
    {
     "cell_type": "code",
     "collapsed": false,
     "input": [
      "import numpy as np\n",
      "import ephem as e\n",
      "from scipy.optimize import minimize\n",
      "import matplotlib.pyplot as plt\n",
      "%matplotlib inline\n",
      "np.set_printoptions(precision=5,suppress =True)"
     ],
     "language": "python",
     "metadata": {},
     "outputs": [],
     "prompt_number": 168
    },
    {
     "cell_type": "markdown",
     "metadata": {},
     "source": [
      "Below we define the rotation and reflection matrices"
     ]
    },
    {
     "cell_type": "code",
     "collapsed": false,
     "input": [
      "def rotation_matrix(angle, d):\n",
      "    directions = {\n",
      "        \"x\":[1.,0.,0.],\n",
      "        \"y\":[0.,1.,0.],\n",
      "        \"z\":[0.,0.,1.]\n",
      "        }\n",
      "    direction = np.array(directions[d])\n",
      "    sina = np.sin(angle)\n",
      "    cosa = np.cos(angle)\n",
      "    # rotation matrix around unit vector \n",
      "    R = np.diag([cosa, cosa, cosa])\n",
      "    R += np.outer(direction, direction) * (1.0 - cosa)\n",
      "    direction *= sina\n",
      "    R += np.array([[ 0.0,         -direction[2],  direction[1]],\n",
      "                   [ direction[2], 0.0,          -direction[0]],\n",
      "                   [-direction[1], direction[0],  0.0]])\n",
      "    return R\n",
      "\n",
      "def reflection_matrix(d):\n",
      "    m = {\n",
      "    \"x\":[[-1.,0.,0.],[0., 1.,0.],[0.,0., 1.]],\n",
      "    \"y\":[[1., 0.,0.],[0.,-1.,0.],[0.,0., 1.]],\n",
      "    \"z\":[[1., 0.,0.],[0., 1.,0.],[1.,0.,-1.]]\n",
      "    }\n",
      "    return np.array(m[d])"
     ],
     "language": "python",
     "metadata": {},
     "outputs": [],
     "prompt_number": 386
    },
    {
     "cell_type": "markdown",
     "metadata": {},
     "source": [
      "Define a position vectors"
     ]
    },
    {
     "cell_type": "code",
     "collapsed": false,
     "input": [
      "def pos_vector(a,b):\n",
      "    return np.array([[np.cos(b)*np.cos(a)],\n",
      "                     [np.cos(b)*np.sin(a)],\n",
      "                     [np.sin(b)]])\n",
      "\n",
      "def pos_from_vector(vec):\n",
      "    a,b,c = vec\n",
      "    a_ = np.arctan2(b,a)\n",
      "    c_ = np.arcsin(c)   \n",
      "    return a_,c_"
     ],
     "language": "python",
     "metadata": {},
     "outputs": [],
     "prompt_number": 382
    },
    {
     "cell_type": "markdown",
     "metadata": {},
     "source": [
      "Generic transform"
     ]
    },
    {
     "cell_type": "code",
     "collapsed": false,
     "input": [
      "def transform(a,b,R,inverse=True):\n",
      "    P = pos_vector(a,b)\n",
      "    if inverse:\n",
      "        R = R.T\n",
      "    V = np.dot(R,P).ravel()\n",
      "    a,b = pos_from_vector(V)\n",
      "    a = 0 if np.isnan(a) else a\n",
      "    b = 0 if np.isnan(a) else b\n",
      "    return a,b"
     ],
     "language": "python",
     "metadata": {},
     "outputs": [],
     "prompt_number": 276
    },
    {
     "cell_type": "markdown",
     "metadata": {},
     "source": [
      "Reference conversion formula from Duncan's old TCC"
     ]
    },
    {
     "cell_type": "code",
     "collapsed": false,
     "input": [
      "def hadec_to_nsew(ha,dec):\n",
      "    ew = np.arcsin((0.9999940546 * np.cos(dec) * np.sin(ha))\n",
      "                    - (0.0029798011806 * np.cos(dec) * np.cos(ha))\n",
      "                    + (0.002015514993 * np.sin(dec)))\n",
      "    ns = np.arcsin(((-0.0000237558704 * np.cos(dec) * np.sin(ha))\n",
      "                     + (0.578881847 * np.cos(dec) * np.cos(ha))\n",
      "                     + (0.8154114339 * np.sin(dec)))\n",
      "                     / np.cos(ew))\n",
      "    return ns,ew"
     ],
     "language": "python",
     "metadata": {},
     "outputs": [],
     "prompt_number": 408
    },
    {
     "cell_type": "markdown",
     "metadata": {},
     "source": [
      "New conversion formula using rotation matrices"
     ]
    },
    {
     "cell_type": "markdown",
     "metadata": {},
     "source": [
      "What do we think we should have:\n",
      "\n",
      "\\begin{equation}\n",
      "\\begin{bmatrix} \n",
      "\\cos(\\rm EW)\\cos(\\rm NS) \\\\\n",
      "\\cos(\\rm EW)\\sin(\\rm NS) \\\\\n",
      "\\sin(\\rm EW)\n",
      "\\end{bmatrix}\n",
      "=\n",
      "\\mathbf{R}\n",
      "\\begin{bmatrix} \n",
      "\\cos(\\delta)\\cos(\\rm HA) \\\\\n",
      "\\cos(\\delta)\\sin(\\rm HA) \\\\\n",
      "\\sin(\\delta)\n",
      "\\end{bmatrix}\n",
      "\\end{equation}\n",
      "\n",
      "Where $\\mathbf{R}$ is a composite rotation matrix.\n",
      "\n",
      "We need a rotations in axis of array plus orthogonal rotation w.r.t. to array centre. Note that the NS convention is flipped so HA and NS go clockwise and anti-clockwise respectively when viewed from the north pole in both coordinate systems.\n",
      "\n",
      "\\begin{equation}\n",
      "\\mathbf{R}_x\n",
      "=\n",
      "\\begin{bmatrix} \n",
      "1 & 0 & 0 \\\\\n",
      "0 & \\cos(\\theta) & -\\sin(\\theta) \\\\\n",
      "0 & \\sin(\\theta) & \\cos(\\theta)\n",
      "\\end{bmatrix}\n",
      "\\end{equation}\n",
      "\n",
      "\\begin{equation}\n",
      "\\mathbf{R}_y\n",
      "=\n",
      "\\begin{bmatrix} \n",
      "\\cos(\\phi) & 0 & \\sin(\\phi) \\\\\n",
      "0 & 1 & 0 \\\\\n",
      "-\\sin(\\phi) & 0 & \\cos(\\phi)\n",
      "\\end{bmatrix}\n",
      "\\end{equation}\n",
      "\n",
      "\\begin{equation}\n",
      "\\mathbf{R}_z\n",
      "=\n",
      "\\begin{bmatrix} \n",
      "\\cos(\\eta) & -\\sin(\\eta) & 0\\\\\n",
      "\\sin(\\eta) & \\cos(\\eta)  & 0\\\\\n",
      "0 & 0 & 1\n",
      "\\end{bmatrix}\n",
      "\\end{equation}\n",
      "\n",
      "\\begin{equation}\n",
      "\\mathbf{R} = \\mathbf{R}_x \\mathbf{R}_y \\mathbf{R}_z\n",
      "\\end{equation}\n",
      "\n",
      "Here I think $\\theta$ is a $3\\pi/2$ rotation to put the telescope pole (west) at the telescope zenith and $\\phi$ is also $\\pi/2$ to rotate the telescope meridian (which is lengthwise on the array, what we traditionally think of as the meridian is actually the equator of the telescope) into the position of $Az=0$.\n",
      "\n",
      "However rotation of NS and HA are opposite, so a reflection is needed. For example reflection around a plane in along which the $z$ axis lies:\n",
      "\n",
      "\\begin{equation}\n",
      "\\mathbf{\\bar{R}}_z\n",
      "=\n",
      "\\begin{bmatrix} \n",
      "1 & 0 & 0\\\\\n",
      "0 & 1  & 0\\\\\n",
      "0 & 0 & -1\n",
      "\\end{bmatrix}\n",
      "\\end{equation}\n",
      "\n",
      "Conversion to azimuth and elevations should therefore require $\\theta=-\\pi/2$ and $\\phi=\\pi/2$ with a reflection about $x$.\n",
      "\n",
      "Taking into account the EW skew and slope of the telescope:\n",
      "\n",
      "\\begin{equation}\n",
      "\\begin{bmatrix} \n",
      "\\cos(\\rm EW)\\cos(\\rm NS) \\\\\n",
      "\\cos(\\rm EW)\\sin(\\rm NS) \\\\\n",
      "\\sin(\\rm EW)\n",
      "\\end{bmatrix}\n",
      "=\n",
      "\\begin{bmatrix} \n",
      "\\cos(\\rm skew) & -\\sin(\\rm skew) & 0\\\\\n",
      "\\sin(\\rm skew) & \\cos(\\rm skew)  & 0\\\\\n",
      "0 & 0 & 1\n",
      "\\end{bmatrix}\n",
      "\\begin{bmatrix} \n",
      "\\cos(\\rm slope) & 0 & \\sin(\\rm slope) \\\\\n",
      "0 & 1 & 0 \\\\\n",
      "-\\sin(\\rm slope) & 0 & \\cos(\\rm slope)\n",
      "\\end{bmatrix}\n",
      "\\begin{bmatrix} \n",
      "1 & 0 & 0 \\\\\n",
      "0 & 0 & 1 \\\\\n",
      "0 & -1 & 0\n",
      "\\end{bmatrix}\n",
      "\\begin{bmatrix} \n",
      "0 & 0 & -1 \\\\\n",
      "0 & 1 & 0 \\\\\n",
      "1 & 0 & 0\n",
      "\\end{bmatrix}\n",
      "\\begin{bmatrix} \n",
      "-1 & 0 & 0\\\\\n",
      "0 & 1  & 0\\\\\n",
      "0 & 0 & 1\n",
      "\\end{bmatrix}\n",
      "\\begin{bmatrix} \n",
      "\\cos(\\delta)\\cos(\\rm HA) \\\\\n",
      "\\cos(\\delta)\\sin(\\rm HA) \\\\\n",
      "\\sin(\\delta)\n",
      "\\end{bmatrix}\n",
      "\\end{equation}\n"
     ]
    },
    {
     "cell_type": "code",
     "collapsed": false,
     "input": [
      "# There should be a slope and tilt conversion to get accurate change\n",
      "skew = 4.363323129985824e-05\n",
      "slope = 0.0034602076124567475\n",
      "\n",
      "def telescope_to_nsew_matrix():\n",
      "    z_rot = rotation_matrix(skew,\"z\")\n",
      "    y_rot = rotation_matrix(slope,\"y\")\n",
      "    R = np.dot(z_rot,y_rot)\n",
      "    return R\n",
      "\n",
      "def nsew_to_azel_matrix():\n",
      "    pre_R = telescope_to_nsew_matrix()\n",
      "    x_rot = rotation_matrix(-np.pi/2,\"x\")\n",
      "    y_rot = rotation_matrix(np.pi/2,\"y\")\n",
      "    R = np.dot(x_rot,y_rot)\n",
      "    R = np.dot(pre_R,R)\n",
      "    R_bar = reflection_matrix(\"x\")\n",
      "    R = np.dot(R,R_bar)\n",
      "    return R\n",
      "\n",
      "def nsew_to_azel(ns, ew):    \n",
      "    az,el = transform(ns,ew,nsew_to_azel_matrix())\n",
      "    return az,el\n",
      "\n",
      "print nsew_to_azel(0,np.pi/2) # should be -pi/2 and 0\n",
      "print nsew_to_azel(-np.pi/2,0)# should be -pi and 0\n",
      "print nsew_to_azel(0.0,.5)    # should be pi/2 and something near pi/2\n",
      "print nsew_to_azel(-.5,.5)    # less than pi/2 and less than pi/2\n",
      "print nsew_to_azel(.5,-.5)    \n",
      "print nsew_to_azel(.5,.5)     "
     ],
     "language": "python",
     "metadata": {},
     "outputs": [
      {
       "output_type": "stream",
       "stream": "stdout",
       "text": [
        "(-1.5707963267948966, -0.0034602076124566864)\n",
        "(3.1415925026100555, -4.3632970088978384e-05)\n",
        "(-1.5708756946594553, 1.0673361174509119)\n",
        "(-2.2883826480644873, 0.87644552213227023)\n",
        "(0.84777769726744279, 0.88170453983976893)\n",
        "(-0.85328927188613557, 0.87650290282815368)\n"
       ]
      }
     ],
     "prompt_number": 590
    },
    {
     "cell_type": "markdown",
     "metadata": {},
     "source": [
      "The inverse of this is:"
     ]
    },
    {
     "cell_type": "code",
     "collapsed": false,
     "input": [
      "def azel_to_nsew(az, el):  \n",
      "    ns,ew = transform(az,el,nsew_to_azel_matrix().T)\n",
      "    return ns,ew"
     ],
     "language": "python",
     "metadata": {},
     "outputs": [],
     "prompt_number": 591
    },
    {
     "cell_type": "markdown",
     "metadata": {},
     "source": [
      "Extending this to HA Dec"
     ]
    },
    {
     "cell_type": "code",
     "collapsed": false,
     "input": [
      "mol_lat = -0.6043881274183919 # in radians\n",
      "\n",
      "def azel_to_hadec_matrix(lat):\n",
      "    rot_y = rotation_matrix(np.pi/2-lat,\"y\")\n",
      "    rot_z = rotation_matrix(np.pi,\"z\")\n",
      "    R = np.dot(rot_y,rot_z)\n",
      "    return R\n",
      "\n",
      "def azel_to_hadec(az,el,lat):\n",
      "    ha,dec = transform(az,el,azel_to_hadec_matrix(lat))\n",
      "    return ha,dec\n",
      "\n",
      "def nsew_to_hadec(ns,ew,lat):\n",
      "    R = np.dot(nsew_to_azel_matrix(),azel_to_hadec_matrix(lat))\n",
      "    ha,dec = transform(ns,ew,R)\n",
      "    return ha,dec\n",
      "\n",
      "ns,ew = 0.8,0.8\n",
      "az,el = nsew_to_azel(ns,ew)\n",
      "print \"AzEl:\",az,el\n",
      "ha,dec = azel_to_hadec(az,el,mol_lat)\n",
      "print \"HADec:\",ha,dec\n",
      "ha,dec = nsew_to_hadec(ns,ew,mol_lat)\n",
      "print \"HADec2:\",ha,dec\n",
      "\n",
      "# This is Duncan's version\n",
      "ns_,ew_ = hadec_to_nsew(ha,dec)\n",
      "print \"NSEW Duncan:\",ns_,ew_\n",
      "print \"NS offset:\",ns_-ns,\"   EW offset:\",ew_-ew"
     ],
     "language": "python",
     "metadata": {},
     "outputs": [
      {
       "output_type": "stream",
       "stream": "stdout",
       "text": [
        "AzEl: -0.963397607066 0.504005618151\n",
        "HADec: 0.812277091735 0.137229305997\n",
        "HADec2: 0.812277091735 0.137229305997\n",
        "NSEW Duncan: 0.812691597904 0.799880056524\n",
        "NS offset: 0.012691597904    EW offset: -0.000119943476115\n"
       ]
      }
     ],
     "prompt_number": 592
    },
    {
     "cell_type": "code",
     "collapsed": false,
     "input": [
      "def test(ns,ew):\n",
      "    ha,dec = nsew_to_hadec(ns,ew,mol_lat)\n",
      "    ns_,ew_ = hadec_to_nsew(ha,dec)\n",
      "    no,eo = ns-ns_,ew-ew_\n",
      "    no = 0 if np.isnan(no) else no\n",
      "    eo = 0 if np.isnan(eo) else eo\n",
      "    return no,eo"
     ],
     "language": "python",
     "metadata": {},
     "outputs": [],
     "prompt_number": 593
    },
    {
     "cell_type": "code",
     "collapsed": false,
     "input": [
      "# Plotting out the conversion error as a function of HA and Dec. \n",
      "# Colour scale is log of the absolute difference between original system and new system\n",
      "\n",
      "ns = np.linspace(-np.pi/2,np.pi/2,100)\n",
      "ew = np.linspace(-np.pi/2,np.pi/2,100)\n",
      "out_ns = np.empty([100,100])\n",
      "out_ew = np.empty([100,100])\n",
      "for ii,n in enumerate(ns):\n",
      "    for jj,k in enumerate(ew):\n",
      "        a,b = test(n,k)\n",
      "        out_ns[ii,jj] = a\n",
      "        out_ew[ii,jj] = b\n",
      "\n",
      "plt.subplot(121)\n",
      "plt.imshow(np.log10(abs(out_ns)),aspect=\"auto\")\n",
      "plt.colorbar()\n",
      "\n",
      "plt.subplot(122)\n",
      "plt.imshow(np.log10(abs(out_ew)),aspect=\"auto\")\n",
      "plt.colorbar()\n",
      "\n",
      "plt.draw()"
     ],
     "language": "python",
     "metadata": {},
     "outputs": [
      {
       "metadata": {},
       "output_type": "display_data",
       "png": "[encoded data removed]",
       "text": [
        "<matplotlib.figure.Figure at 0x10c3ab9d0>"
       ]
      }
     ],
     "prompt_number": 594
    },
    {
     "cell_type": "code",
     "collapsed": false,
     "input": [
      "\n"
     ],
     "language": "python",
     "metadata": {},
     "outputs": [],
     "prompt_number": 553
    },
    {
     "cell_type": "code",
     "collapsed": false,
     "input": [],
     "language": "python",
     "metadata": {},
     "outputs": [],
     "prompt_number": 542
    },
    {
     "cell_type": "code",
     "collapsed": false,
     "input": [],
     "language": "python",
     "metadata": {},
     "outputs": []
    }
   ],
   "metadata": {}
  }
 ]
}