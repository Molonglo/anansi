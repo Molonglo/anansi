{
 "metadata": {
  "name": "",
  "signature": "sha256:e94acc3624d9b9fb3d2c2301fb370a1fb78b3c523495b43df53bd827cbe98f7c"
 },
 "nbformat": 3,
 "nbformat_minor": 0,
 "worksheets": [
  {
   "cells": [
    {
     "cell_type": "code",
     "collapsed": false,
     "input": [
      "class X(object):\n",
      "    def __init__(self):\n",
      "        self.x = 3\n",
      "        \n",
      "    def p(self):\n",
      "        print self.x\n",
      "\n",
      "class MyKlass(X):\n",
      "    def __init__(self):\n",
      "        X.__init__(self)\n",
      "        self.base = X\n",
      "        \n",
      "    def pp(self):\n",
      "        X.p(self)\n",
      "    \n",
      "    \n",
      "x = MyKlass()\n",
      "x.pp()"
     ],
     "language": "python",
     "metadata": {},
     "outputs": [
      {
       "output_type": "stream",
       "stream": "stdout",
       "text": [
        "3\n"
       ]
      }
     ],
     "prompt_number": 28
    },
    {
     "cell_type": "code",
     "collapsed": false,
     "input": [
      "issubclass(ephem.Sun,ephem.Body)"
     ],
     "language": "python",
     "metadata": {},
     "outputs": [
      {
       "metadata": {},
       "output_type": "pyout",
       "prompt_number": 32,
       "text": [
        "True"
       ]
      }
     ],
     "prompt_number": 32
    },
    {
     "cell_type": "code",
     "collapsed": false,
     "input": [
      "x = type('Body', (Sun,),{})()"
     ],
     "language": "python",
     "metadata": {},
     "outputs": [],
     "prompt_number": 8
    },
    {
     "cell_type": "code",
     "collapsed": false,
     "input": [
      "import ephem\n",
      "ephem.__getattribute__(\"Sun\")\n",
      "#x = type('Body', (ephem.__getattribute__(\"Sun\"),CoordinatesMixin),{})()\n",
      "\n",
      "\n",
      "\n",
      "class X(object):\n",
      "    def compute(self):\n",
      "        ephem.FixedBody.compute(self,ephem.Observer())\n"
     ],
     "language": "python",
     "metadata": {},
     "outputs": [],
     "prompt_number": 18
    },
    {
     "cell_type": "code",
     "collapsed": false,
     "input": [
      "x = X\n",
      "x.compute()"
     ],
     "language": "python",
     "metadata": {},
     "outputs": [
      {
       "ename": "TypeError",
       "evalue": "unbound method compute() must be called with X instance as first argument (got nothing instead)",
       "output_type": "pyerr",
       "traceback": [
        "\u001b[0;31m---------------------------------------------------------------------------\u001b[0m\n\u001b[0;31mTypeError\u001b[0m                                 Traceback (most recent call last)",
        "\u001b[0;32m<ipython-input-20-acbc37352d58>\u001b[0m in \u001b[0;36m<module>\u001b[0;34m()\u001b[0m\n\u001b[1;32m      1\u001b[0m \u001b[0mx\u001b[0m \u001b[0;34m=\u001b[0m \u001b[0mX\u001b[0m\u001b[0;34m\u001b[0m\u001b[0m\n\u001b[0;32m----> 2\u001b[0;31m \u001b[0mx\u001b[0m\u001b[0;34m.\u001b[0m\u001b[0mcompute\u001b[0m\u001b[0;34m(\u001b[0m\u001b[0;34m)\u001b[0m\u001b[0;34m\u001b[0m\u001b[0m\n\u001b[0m",
        "\u001b[0;31mTypeError\u001b[0m: unbound method compute() must be called with X instance as first argument (got nothing instead)"
       ]
      }
     ],
     "prompt_number": 20
    },
    {
     "cell_type": "code",
     "collapsed": false,
     "input": [],
     "language": "python",
     "metadata": {},
     "outputs": []
    }
   ],
   "metadata": {}
  }
 ]
}